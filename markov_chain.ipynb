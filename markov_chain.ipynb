{
    "cells": [
        {
            "cell_type": "markdown",
            "metadata": {},
            "source": "# Definition of a simple n-gram Model"
        },
        {
            "cell_type": "code",
            "execution_count": 1,
            "metadata": {
                "trusted": true
            },
            "outputs": [],
            "source": "# packages\nimport torch\nimport torch.nn as nn\nimport torch.optim as optim\nimport torch.utils\nimport torch.utils.data\nfrom torch.utils.data import DataLoader\n\nimport pandas as pd\nimport numpy as np\n\nimport os"
        },
        {
            "cell_type": "markdown",
            "metadata": {},
            "source": "loading the data"
        },
        {
            "cell_type": "code",
            "execution_count": 24,
            "metadata": {
                "trusted": true
            },
            "outputs": [
                {
                    "ename": "ParserError",
                    "evalue": "Error tokenizing data. C error: Expected 3 fields in line 4, saw 4\n",
                    "output_type": "error",
                    "traceback": [
                        "\u001b[0;31m---------------------------------------------------------------------------\u001b[0m",
                        "\u001b[0;31mParserError\u001b[0m                               Traceback (most recent call last)",
                        "Cell \u001b[0;32mIn[24], line 2\u001b[0m\n\u001b[1;32m      1\u001b[0m path \u001b[38;5;241m=\u001b[39m \u001b[38;5;124m'\u001b[39m\u001b[38;5;124m/home/lorenz/Documents/Mathematik/24 FS/Semester_Paper_DCML/data/ABC/harmonies/n10op74_02.harmonies.tsv\u001b[39m\u001b[38;5;124m'\u001b[39m\n\u001b[0;32m----> 2\u001b[0m df_all \u001b[38;5;241m=\u001b[39m \u001b[43mpd\u001b[49m\u001b[38;5;241;43m.\u001b[39;49m\u001b[43mread_csv\u001b[49m\u001b[43m(\u001b[49m\u001b[43mpath\u001b[49m\u001b[43m)\u001b[49m\n\u001b[1;32m      4\u001b[0m \u001b[38;5;66;03m# define new dataframe df with only the 'numeral' column\u001b[39;00m\n\u001b[1;32m      5\u001b[0m df \u001b[38;5;241m=\u001b[39m df_all[\u001b[38;5;124m'\u001b[39m\u001b[38;5;124mnumeral\u001b[39m\u001b[38;5;124m'\u001b[39m]\n",
                        "File \u001b[0;32m~/Documents/Mathematik/24 FS/Semester_Paper_DCML/lib/python3.8/site-packages/pandas/io/parsers/readers.py:912\u001b[0m, in \u001b[0;36mread_csv\u001b[0;34m(filepath_or_buffer, sep, delimiter, header, names, index_col, usecols, dtype, engine, converters, true_values, false_values, skipinitialspace, skiprows, skipfooter, nrows, na_values, keep_default_na, na_filter, verbose, skip_blank_lines, parse_dates, infer_datetime_format, keep_date_col, date_parser, date_format, dayfirst, cache_dates, iterator, chunksize, compression, thousands, decimal, lineterminator, quotechar, quoting, doublequote, escapechar, comment, encoding, encoding_errors, dialect, on_bad_lines, delim_whitespace, low_memory, memory_map, float_precision, storage_options, dtype_backend)\u001b[0m\n\u001b[1;32m    899\u001b[0m kwds_defaults \u001b[38;5;241m=\u001b[39m _refine_defaults_read(\n\u001b[1;32m    900\u001b[0m     dialect,\n\u001b[1;32m    901\u001b[0m     delimiter,\n\u001b[0;32m   (...)\u001b[0m\n\u001b[1;32m    908\u001b[0m     dtype_backend\u001b[38;5;241m=\u001b[39mdtype_backend,\n\u001b[1;32m    909\u001b[0m )\n\u001b[1;32m    910\u001b[0m kwds\u001b[38;5;241m.\u001b[39mupdate(kwds_defaults)\n\u001b[0;32m--> 912\u001b[0m \u001b[38;5;28;01mreturn\u001b[39;00m \u001b[43m_read\u001b[49m\u001b[43m(\u001b[49m\u001b[43mfilepath_or_buffer\u001b[49m\u001b[43m,\u001b[49m\u001b[43m \u001b[49m\u001b[43mkwds\u001b[49m\u001b[43m)\u001b[49m\n",
                        "File \u001b[0;32m~/Documents/Mathematik/24 FS/Semester_Paper_DCML/lib/python3.8/site-packages/pandas/io/parsers/readers.py:583\u001b[0m, in \u001b[0;36m_read\u001b[0;34m(filepath_or_buffer, kwds)\u001b[0m\n\u001b[1;32m    580\u001b[0m     \u001b[38;5;28;01mreturn\u001b[39;00m parser\n\u001b[1;32m    582\u001b[0m \u001b[38;5;28;01mwith\u001b[39;00m parser:\n\u001b[0;32m--> 583\u001b[0m     \u001b[38;5;28;01mreturn\u001b[39;00m \u001b[43mparser\u001b[49m\u001b[38;5;241;43m.\u001b[39;49m\u001b[43mread\u001b[49m\u001b[43m(\u001b[49m\u001b[43mnrows\u001b[49m\u001b[43m)\u001b[49m\n",
                        "File \u001b[0;32m~/Documents/Mathematik/24 FS/Semester_Paper_DCML/lib/python3.8/site-packages/pandas/io/parsers/readers.py:1704\u001b[0m, in \u001b[0;36mTextFileReader.read\u001b[0;34m(self, nrows)\u001b[0m\n\u001b[1;32m   1697\u001b[0m nrows \u001b[38;5;241m=\u001b[39m validate_integer(\u001b[38;5;124m\"\u001b[39m\u001b[38;5;124mnrows\u001b[39m\u001b[38;5;124m\"\u001b[39m, nrows)\n\u001b[1;32m   1698\u001b[0m \u001b[38;5;28;01mtry\u001b[39;00m:\n\u001b[1;32m   1699\u001b[0m     \u001b[38;5;66;03m# error: \"ParserBase\" has no attribute \"read\"\u001b[39;00m\n\u001b[1;32m   1700\u001b[0m     (\n\u001b[1;32m   1701\u001b[0m         index,\n\u001b[1;32m   1702\u001b[0m         columns,\n\u001b[1;32m   1703\u001b[0m         col_dict,\n\u001b[0;32m-> 1704\u001b[0m     ) \u001b[38;5;241m=\u001b[39m \u001b[38;5;28;43mself\u001b[39;49m\u001b[38;5;241;43m.\u001b[39;49m\u001b[43m_engine\u001b[49m\u001b[38;5;241;43m.\u001b[39;49m\u001b[43mread\u001b[49m\u001b[43m(\u001b[49m\u001b[43m  \u001b[49m\u001b[38;5;66;43;03m# type: ignore[attr-defined]\u001b[39;49;00m\n\u001b[1;32m   1705\u001b[0m \u001b[43m        \u001b[49m\u001b[43mnrows\u001b[49m\n\u001b[1;32m   1706\u001b[0m \u001b[43m    \u001b[49m\u001b[43m)\u001b[49m\n\u001b[1;32m   1707\u001b[0m \u001b[38;5;28;01mexcept\u001b[39;00m \u001b[38;5;167;01mException\u001b[39;00m:\n\u001b[1;32m   1708\u001b[0m     \u001b[38;5;28mself\u001b[39m\u001b[38;5;241m.\u001b[39mclose()\n",
                        "File \u001b[0;32m~/Documents/Mathematik/24 FS/Semester_Paper_DCML/lib/python3.8/site-packages/pandas/io/parsers/c_parser_wrapper.py:234\u001b[0m, in \u001b[0;36mCParserWrapper.read\u001b[0;34m(self, nrows)\u001b[0m\n\u001b[1;32m    232\u001b[0m \u001b[38;5;28;01mtry\u001b[39;00m:\n\u001b[1;32m    233\u001b[0m     \u001b[38;5;28;01mif\u001b[39;00m \u001b[38;5;28mself\u001b[39m\u001b[38;5;241m.\u001b[39mlow_memory:\n\u001b[0;32m--> 234\u001b[0m         chunks \u001b[38;5;241m=\u001b[39m \u001b[38;5;28;43mself\u001b[39;49m\u001b[38;5;241;43m.\u001b[39;49m\u001b[43m_reader\u001b[49m\u001b[38;5;241;43m.\u001b[39;49m\u001b[43mread_low_memory\u001b[49m\u001b[43m(\u001b[49m\u001b[43mnrows\u001b[49m\u001b[43m)\u001b[49m\n\u001b[1;32m    235\u001b[0m         \u001b[38;5;66;03m# destructive to chunks\u001b[39;00m\n\u001b[1;32m    236\u001b[0m         data \u001b[38;5;241m=\u001b[39m _concatenate_chunks(chunks)\n",
                        "File \u001b[0;32m~/Documents/Mathematik/24 FS/Semester_Paper_DCML/lib/python3.8/site-packages/pandas/_libs/parsers.pyx:814\u001b[0m, in \u001b[0;36mpandas._libs.parsers.TextReader.read_low_memory\u001b[0;34m()\u001b[0m\n",
                        "File \u001b[0;32m~/Documents/Mathematik/24 FS/Semester_Paper_DCML/lib/python3.8/site-packages/pandas/_libs/parsers.pyx:875\u001b[0m, in \u001b[0;36mpandas._libs.parsers.TextReader._read_rows\u001b[0;34m()\u001b[0m\n",
                        "File \u001b[0;32m~/Documents/Mathematik/24 FS/Semester_Paper_DCML/lib/python3.8/site-packages/pandas/_libs/parsers.pyx:850\u001b[0m, in \u001b[0;36mpandas._libs.parsers.TextReader._tokenize_rows\u001b[0;34m()\u001b[0m\n",
                        "File \u001b[0;32m~/Documents/Mathematik/24 FS/Semester_Paper_DCML/lib/python3.8/site-packages/pandas/_libs/parsers.pyx:861\u001b[0m, in \u001b[0;36mpandas._libs.parsers.TextReader._check_tokenize_status\u001b[0;34m()\u001b[0m\n",
                        "File \u001b[0;32m~/Documents/Mathematik/24 FS/Semester_Paper_DCML/lib/python3.8/site-packages/pandas/_libs/parsers.pyx:2029\u001b[0m, in \u001b[0;36mpandas._libs.parsers.raise_parser_error\u001b[0;34m()\u001b[0m\n",
                        "\u001b[0;31mParserError\u001b[0m: Error tokenizing data. C error: Expected 3 fields in line 4, saw 4\n"
                    ]
                }
            ],
            "source": "path = '/home/lorenz/Documents/Mathematik/24 FS/Semester_Paper_DCML/data/ABC/harmonies/n10op74_02.harmonies.tsv'\ndf_all = pd.read_csv(path)\n\n# define new dataframe df with only the 'numeral' column\ndf = df_all['numeral']\ndf_ = pd.factorize(df)\nprint(len(df_[1]))"
        },
        {
            "cell_type": "markdown",
            "metadata": {},
            "source": "Markov chain model"
        },
        {
            "cell_type": "code",
            "execution_count": 25,
            "metadata": {
                "trusted": true
            },
            "outputs": [],
            "source": "class MarkovChain:\n    def __init__(self, df):\n        self.df = df\n        self.df_ = pd.factorize(df)\n        self.trans_mat = np.zeros((len(df_[1]), len(df_[1])))\n    \n    def clean_data(self):\n        # if df_ contains a None value, remove it and the corresponding entry in df\n        if None in self.df_[1]:\n            ind = np.argwhere(self.df_[1] is None)\n            self.df = np.delete(self.df, ind)\n            self.df_ = pd.factorize(self.df)\n\n    # calculate the transition matrix\n    def markov_transition_matrix(self):\n        trans_mat = np.zeros((len(self.df_[1]), len(self.df_[1])))\n\n        # count of transitions\n        for ch1 in self.df_[1]:\n            inds = np.argwhere(self.df == ch1).flatten()\n            # if first entry = 0, remove it \n            if inds[0] == 0:\n                inds = np.delete(inds, 0)\n            for ch2 in self.df_[1]:\n                before = sum([chd == ch2 for chd in self.df[inds-1]])\n                trans_mat[self.df_[1] == ch1, self.df_[1] == ch2] = before/len(self.df[inds])\n        self.trans_mat = trans_mat\n        return trans_mat\n\n    def transform_chords_to_vectors(self, ch):\n        assert(ch in self.df_[1])\n        ind =  np.argwhere(self.df_[1] == ch)[0]\n        vec = np.zeros(len(self.df_[1]))\n        vec[ind] = 1\n        return vec\n\n    def fit(self):\n        self.clean_data()\n        self.trans_mat = self.markov_transition_matrix()\n        return self\n\n    def step(self, ch):\n        # print('step form ', ch)\n        vec = self.transform_chords_to_vectors(ch)\n        out = np.dot(self.trans_mat.T, vec)\n        return np.random.choice(self.df_[1], 1, p=out)[0]\n\n    def predict(self, ch, n=3, verbose=False, start_at_current=False):\n        seq = []\n        if start_at_current:\n            seq.append(ch)\n\n        for i in range(n):\n            ch = self.step(ch)\n            seq.append(ch)\n            if verbose:\n                print(ch)\n        return seq"
        },
        {
            "cell_type": "markdown",
            "metadata": {},
            "source": "fit the model"
        },
        {
            "cell_type": "code",
            "execution_count": 26,
            "metadata": {
                "trusted": true
            },
            "outputs": [],
            "source": "markov = MarkovChain(df).fit()\n# markov.predict('I', n=36, verbose=True)"
        },
        {
            "cell_type": "markdown",
            "metadata": {},
            "source": "sonification"
        },
        {
            "cell_type": "code",
            "execution_count": 29,
            "metadata": {
                "trusted": true
            },
            "outputs": [],
            "source": "from midiutil import MIDIFile\nfrom mingus.core import progressions\n\n# transform markov output to readable chords with mignus\ndef chords_to_notes(progression, key='F'):\n    return progressions.to_chords(progression, key)\n\ndef swap_accidentals(note):\n    if note == 'Db':\n        return 'C#'\n    if note == 'D#':\n        return 'Eb'\n    if note == 'E#':\n        return 'F'\n    if note == 'Gb':\n        return 'F#'\n    if note == 'G#':\n        return 'Ab'\n    if note == 'A#':\n        return 'Bb'\n    if note == 'B#':\n        return 'C'\n    if note == 'Cb':\n        return 'B'\n    if note == 'Bbb':\n        return 'A'\n    return note\n\ndef note_to_number(note: str, octave: int) -> int:\n    note = swap_accidentals(note)\n    NOTES = ['C', 'C#', 'D', 'Eb', 'E', 'F', 'F#', 'G', 'Ab', 'A', 'Bb', 'B']\n    OCTAVES = list(range(11))\n    NOTES_IN_OCTAVE = len(NOTES)\n    note = swap_accidentals(note)\n    if note not in NOTES:\n        print('error: ', note)\n    assert note in NOTES\n    assert octave in OCTAVES\n\n    note = NOTES.index(note)\n    note += (NOTES_IN_OCTAVE * octave)\n    return note\n\ndef midi_to_wav(midi_file):\n    soundfont = '~/Documents/Musik/Soundfont/GeneralUser GS 1.471/GeneralUser GS v1.471.sf2'\n    # convert midi to wav using fluidsynth\n    wav_file = midi_file.replace('.mid', '.wav')\n    os.system(f'fluidsynth -ni {soundfont} {midi_file} -F {wav_file} -r 44100')\n    os.remove(midi_file)\n\n# create a midi file\ndef create_midi_file(chord_progression, filename='output.mid',\n                     duration=2, vol=100, octave=4):\n    # create a midi file\n    midi = MIDIFile(1)\n    midi.addTempo(0, 0, 120)\n\n    # change chord symbols to notes\n    note_progression = chords_to_notes(chord_progression)\n    print(type(note_progression))\n\n    # add chords\n    time = 0\n    for chord in note_progression:\n        for pitch in chord:\n            pitch = note_to_number(pitch, octave)\n            midi.addNote(0, 0, pitch, time, duration , vol)\n        time += duration\n\n    # write to file\n    with open(filename, 'wb') as f:\n        midi.writeFile(f)\n\n    # convert to wav\n    midi_to_wav(filename)\n    print('midi file ' + filename + ' created')"
        },
        {
            "cell_type": "code",
            "execution_count": 28,
            "metadata": {
                "trusted": true
            },
            "outputs": [
                {
                    "name": "stdout",
                    "output_type": "stream",
                    "text": "<class 'list'>\n"
                },
                {
                    "name": "stderr",
                    "output_type": "stream",
                    "text": "Parameter '/home/lorenz/Documents/Musik/Soundfont/GeneralUser' not a SoundFont or MIDI file or error occurred identifying it.\nParameter 'GS' not a SoundFont or MIDI file or error occurred identifying it.\nParameter '1.471/GeneralUser' not a SoundFont or MIDI file or error occurred identifying it.\nParameter 'GS' not a SoundFont or MIDI file or error occurred identifying it.\nParameter 'v1.471.sf2' not a SoundFont or MIDI file or error occurred identifying it.\n"
                },
                {
                    "name": "stdout",
                    "output_type": "stream",
                    "text": "FluidSynth runtime version 2.1.1\nCopyright (C) 2000-2020 Peter Hanappe and others.\nDistributed under the LGPL license.\nSoundFont(R) is a registered trademark of E-mu Systems, Inc.\n\nRendering audio to file 'markov_chain_output.wav'..\nmidi file markov_chain_output.mid created\n<class 'list'>\n"
                },
                {
                    "name": "stderr",
                    "output_type": "stream",
                    "text": "Parameter '/home/lorenz/Documents/Musik/Soundfont/GeneralUser' not a SoundFont or MIDI file or error occurred identifying it.\nParameter 'GS' not a SoundFont or MIDI file or error occurred identifying it.\nParameter '1.471/GeneralUser' not a SoundFont or MIDI file or error occurred identifying it.\nParameter 'GS' not a SoundFont or MIDI file or error occurred identifying it.\nParameter 'v1.471.sf2' not a SoundFont or MIDI file or error occurred identifying it.\n"
                },
                {
                    "name": "stdout",
                    "output_type": "stream",
                    "text": "FluidSynth runtime version 2.1.1\nCopyright (C) 2000-2020 Peter Hanappe and others.\nDistributed under the LGPL license.\nSoundFont(R) is a registered trademark of E-mu Systems, Inc.\n\nRendering audio to file 'original_output.wav'..\nmidi file original_output.mid created\n"
                }
            ],
            "source": "# test\nstart = 'I'\nlength = 32\ndur = 2\nchords = markov.predict(start, n=length, start_at_current=True)\n\ncreate_midi_file(chords, filename='markov_chain_output.mid', duration=dur)\n\norg_chords = df.values[:length]\ncreate_midi_file(org_chords, filename='original_output.mid', duration=dur)"
        }
    ],
    "metadata": {
        "kernelspec": {
            "display_name": "DCML",
            "language": "python",
            "name": "dcml"
        },
        "language_info": {
            "codemirror_mode": {
                "name": "ipython",
                "version": 3
            },
            "file_extension": ".py",
            "mimetype": "text/x-python",
            "name": "python",
            "nbconvert_exporter": "python",
            "pygments_lexer": "ipython3",
            "version": "3.8.10"
        }
    },
    "nbformat": 4,
    "nbformat_minor": 5
}