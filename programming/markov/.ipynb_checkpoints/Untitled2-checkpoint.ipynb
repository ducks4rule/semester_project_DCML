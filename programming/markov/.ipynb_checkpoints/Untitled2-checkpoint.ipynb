{
 "cells": [
  {
   "cell_type": "markdown",
   "id": "3d511154",
   "metadata": {},
   "source": [
    "# Definition of a simple 1-gram Model"
   ]
  },
  {
   "cell_type": "code",
   "execution_count": 1,
   "id": "82e6ee03",
   "metadata": {},
   "outputs": [],
   "source": [
    "# packages\n",
    "import torch\n",
    "import torch.nn as nn\n",
    "import torch.optim as optim\n",
    "import torch.utils\n",
    "import torch.utils.data\n",
    "from torch.utils.data import DataLoader\n",
    "\n",
    "import pandas as pd\n",
    "import numpy as np\n",
    "\n",
    "import os"
   ]
  },
  {
   "cell_type": "markdown",
   "id": "17c85b17",
   "metadata": {},
   "source": [
    "loading the data"
   ]
  },
  {
   "cell_type": "code",
   "execution_count": 14,
   "id": "721c19bc",
   "metadata": {},
   "outputs": [
    {
     "name": "stdout",
     "output_type": "stream",
     "text": [
      "Index(['mc', 'mn', 'quarterbeats', 'quarterbeats_all_endings', 'duration_qb',\n",
      "       'mc_onset', 'mn_onset', 'timesig', 'staff', 'voice', 'label',\n",
      "       'alt_label', 'globalkey', 'localkey', 'pedal', 'chord', 'numeral',\n",
      "       'form', 'figbass', 'changes', 'relativeroot', 'cadence', 'phraseend',\n",
      "       'chord_type', 'globalkey_is_minor', 'localkey_is_minor', 'chord_tones',\n",
      "       'added_tones', 'root', 'bass_note'],\n",
      "      dtype='object')\n",
      "16\n"
     ]
    }
   ],
   "source": [
    "path = '/home/lorenz/Documents/Mathematik/24 FS/Semester_Paper_DCML/data/ABC/harmonies/n10op74_01.harmonies.tsv'\n",
    "df_all = pd.read_csv(path, sep='\\t')\n",
    "print(df_all.columns)\n",
    "\n",
    "# define new dataframe df with only the 'numeral' column\n",
    "df = df_all['numeral']\n",
    "# df = df_all['chord']\n",
    "df_ = pd.factorize(df)\n",
    "print(len(df_[1]))"
   ]
  },
  {
   "cell_type": "markdown",
   "id": "8b859ea3",
   "metadata": {},
   "source": [
    "Markov chain model"
   ]
  },
  {
   "cell_type": "code",
   "execution_count": 15,
   "id": "0fb87c9c",
   "metadata": {},
   "outputs": [],
   "source": [
    "class MarkovChain:\n",
    "    def __init__(self, df):\n",
    "        self.df = df\n",
    "        self.df_ = pd.factorize(df)\n",
    "        self.trans_mat = np.zeros((len(df_[1]), len(df_[1])))\n",
    "    \n",
    "    def clean_data(self):\n",
    "        # if df_ contains a None value, remove it and the corresponding entry in df\n",
    "        if None in self.df_[1]:\n",
    "            ind = np.argwhere(self.df_[1] is None)\n",
    "            self.df = np.delete(self.df, ind)\n",
    "            self.df_ = pd.factorize(self.df)\n",
    "\n",
    "    # calculate the transition matrix\n",
    "    def markov_transition_matrix(self):\n",
    "        trans_mat = np.zeros((len(self.df_[1]), len(self.df_[1])))\n",
    "\n",
    "        # count of transitions\n",
    "        for ch1 in self.df_[1]:\n",
    "            inds = np.argwhere(self.df == ch1).flatten()\n",
    "            # if first entry = 0, remove it \n",
    "            if inds[0] == 0:\n",
    "                inds = np.delete(inds, 0)\n",
    "            for ch2 in self.df_[1]:\n",
    "                before = sum([chd == ch2 for chd in self.df[inds-1]])\n",
    "                trans_mat[self.df_[1] == ch1, self.df_[1] == ch2] = before/len(self.df[inds])\n",
    "        self.trans_mat = trans_mat\n",
    "        return trans_mat\n",
    "\n",
    "    def transform_chords_to_vectors(self, ch):\n",
    "        assert(ch in self.df_[1])\n",
    "        ind =  np.argwhere(self.df_[1] == ch)[0]\n",
    "        vec = np.zeros(len(self.df_[1]))\n",
    "        vec[ind] = 1\n",
    "        return vec\n",
    "\n",
    "    def fit(self):\n",
    "        self.clean_data()\n",
    "        self.trans_mat = self.markov_transition_matrix()\n",
    "        return self\n",
    "\n",
    "    def step(self, ch):\n",
    "        # print('step form ', ch)\n",
    "        vec = self.transform_chords_to_vectors(ch)\n",
    "        out = np.dot(self.trans_mat.T, vec)\n",
    "        return np.random.choice(self.df_[1], 1, p=out)[0]\n",
    "\n",
    "    def predict(self, ch, n=3, verbose=False, start_at_current=False):\n",
    "        seq = []\n",
    "        if start_at_current:\n",
    "            seq.append(ch)\n",
    "\n",
    "        for i in range(n):\n",
    "            ch = self.step(ch)\n",
    "            seq.append(ch)\n",
    "            if verbose:\n",
    "                print(ch)\n",
    "        return seq"
   ]
  },
  {
   "cell_type": "markdown",
   "id": "4baf4c86",
   "metadata": {},
   "source": [
    "fit the model"
   ]
  },
  {
   "cell_type": "code",
   "execution_count": 16,
   "id": "2a6039b5",
   "metadata": {},
   "outputs": [],
   "source": [
    "markov = MarkovChain(df).fit()\n",
    "# markov.predict('I', n=36, verbose=True)"
   ]
  },
  {
   "cell_type": "markdown",
   "id": "847d666a",
   "metadata": {},
   "source": [
    "test the metrics"
   ]
  },
  {
   "cell_type": "code",
   "execution_count": 23,
   "id": "dca94cdb",
   "metadata": {},
   "outputs": [
    {
     "ename": "SyntaxError",
     "evalue": "invalid syntax (2182032422.py, line 1)",
     "output_type": "error",
     "traceback": [
      "\u001b[0;36m  Cell \u001b[0;32mIn[23], line 1\u001b[0;36m\u001b[0m\n\u001b[0;31m    import /home/lorenz/Documents/Mathematik/24\\ FS/Semester_Paper_DCML/chord-eval/chord_eval/metric.py as ce\u001b[0m\n\u001b[0m           ^\u001b[0m\n\u001b[0;31mSyntaxError\u001b[0m\u001b[0;31m:\u001b[0m invalid syntax\n"
     ]
    }
   ],
   "source": [
    "import \n",
    "\n",
    "start = 'I'\n",
    "length = 32\n",
    "dur = 2\n",
    "pred_chords = markov.predict(start, n=length, start_at_current=True)\n",
    "\n",
    "org_chords = df.values[:length]\n",
    "\n",
    "for y, y_hat in zip(pred_chords, org_chords):\n",
    "    print(y, y_hat)\n",
    "    tone_by_tone = ce.get_distance(y, y_hat)"
   ]
  }
 ],
 "metadata": {
  "kernelspec": {
   "display_name": "DCML",
   "language": "python",
   "name": "dcml"
  },
  "language_info": {
   "codemirror_mode": {
    "name": "ipython",
    "version": 3
   },
   "file_extension": ".py",
   "mimetype": "text/x-python",
   "name": "python",
   "nbconvert_exporter": "python",
   "pygments_lexer": "ipython3",
   "version": "3.11.8"
  }
 },
 "nbformat": 4,
 "nbformat_minor": 5
}
