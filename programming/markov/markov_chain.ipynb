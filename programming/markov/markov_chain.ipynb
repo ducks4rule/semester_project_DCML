{
    "cells": [
        {
            "cell_type": "markdown",
            "metadata": {},
            "source": "# Definition of a simple 1-gram Model"
        },
        {
            "cell_type": "code",
            "execution_count": 1,
            "metadata": {
                "trusted": true
            },
            "outputs": [],
            "source": "# packages\nimport torch\nimport torch.nn as nn\nimport torch.optim as optim\nimport torch.utils\nimport torch.utils.data\nfrom torch.utils.data import DataLoader\n\nimport pandas as pd\nimport numpy as np\n\nimport os"
        },
        {
            "cell_type": "markdown",
            "metadata": {},
            "source": "loading the data"
        },
        {
            "cell_type": "code",
            "execution_count": 2,
            "metadata": {
                "trusted": true
            },
            "outputs": [
                {
                    "name": "stdout",
                    "output_type": "stream",
                    "text": "Index(['mc', 'mn', 'quarterbeats', 'quarterbeats_all_endings', 'duration_qb',\n       'mc_onset', 'mn_onset', 'timesig', 'staff', 'voice', 'label',\n       'alt_label', 'globalkey', 'localkey', 'pedal', 'chord', 'numeral',\n       'form', 'figbass', 'changes', 'relativeroot', 'cadence', 'phraseend',\n       'chord_type', 'globalkey_is_minor', 'localkey_is_minor', 'chord_tones',\n       'added_tones', 'root', 'bass_note'],\n      dtype='object')\n16\n"
                }
            ],
            "source": "path = '/home/lorenz/Documents/Mathematik/24 FS/Semester_Paper_DCML/data/ABC/harmonies/n10op74_01.harmonies.tsv'\ndf_all = pd.read_csv(path, sep='\\t')\nprint(df_all.columns)\n\n# define new dataframe df with only the 'numeral' column\ndf = df_all['numeral']\n# df = df_all['chord']\ndf_ = pd.factorize(df)\nprint(len(df_[1]))"
        },
        {
            "cell_type": "markdown",
            "metadata": {},
            "source": "Markov chain model"
        },
        {
            "cell_type": "code",
            "execution_count": 3,
            "metadata": {
                "trusted": true
            },
            "outputs": [],
            "source": "class MarkovChain:\n    def __init__(self, df):\n        self.df = df\n        self.df_ = pd.factorize(df)\n        self.trans_mat = np.zeros((len(df_[1]), len(df_[1])))\n    \n    def clean_data(self):\n        # if df_ contains a None value, remove it and the corresponding entry in df\n        if None in self.df_[1]:\n            ind = np.argwhere(self.df_[1] is None)\n            self.df = np.delete(self.df, ind)\n            self.df_ = pd.factorize(self.df)\n\n    # calculate the transition matrix\n    def markov_transition_matrix(self):\n        trans_mat = np.zeros((len(self.df_[1]), len(self.df_[1])))\n\n        # count of transitions\n        for ch1 in self.df_[1]:\n            inds = np.argwhere(self.df == ch1).flatten()\n            # if first entry = 0, remove it \n            if inds[0] == 0:\n                inds = np.delete(inds, 0)\n            for ch2 in self.df_[1]:\n                before = sum([chd == ch2 for chd in self.df[inds-1]])\n                trans_mat[self.df_[1] == ch1, self.df_[1] == ch2] = before/len(self.df[inds])\n        self.trans_mat = trans_mat\n        return trans_mat\n\n    def transform_chords_to_vectors(self, ch):\n        assert(ch in self.df_[1])\n        ind =  np.argwhere(self.df_[1] == ch)[0]\n        vec = np.zeros(len(self.df_[1]))\n        vec[ind] = 1\n        return vec\n\n    def fit(self):\n        self.clean_data()\n        self.trans_mat = self.markov_transition_matrix()\n        return self\n\n    def step(self, ch):\n        # print('step form ', ch)\n        vec = self.transform_chords_to_vectors(ch)\n        out = np.dot(self.trans_mat.T, vec)\n        return np.random.choice(self.df_[1], 1, p=out)[0]\n\n    def predict(self, ch, n=3, verbose=False, start_at_current=False):\n        seq = []\n        if start_at_current:\n            seq.append(ch)\n\n        for i in range(n):\n            ch = self.step(ch)\n            seq.append(ch)\n            if verbose:\n                print(ch)\n        return seq"
        },
        {
            "cell_type": "markdown",
            "metadata": {},
            "source": "fit the model"
        },
        {
            "cell_type": "code",
            "execution_count": 4,
            "metadata": {
                "trusted": true
            },
            "outputs": [],
            "source": "markov = MarkovChain(df).fit()\n# markov.predict('I', n=36, verbose=True)"
        },
        {
            "cell_type": "markdown",
            "metadata": {},
            "source": "test the metrics"
        },
        {
            "cell_type": "code",
            "execution_count": 7,
            "metadata": {
                "trusted": true
            },
            "outputs": [
                {
                    "name": "stdout",
                    "output_type": "stream",
                    "text": "['__new__', '__repr__', '__hash__', '__str__', '__getattribute__', '__lt__', '__le__', '__eq__', '__ne__', '__gt__', '__ge__', '__iter__', '__mod__', '__rmod__', '__len__', '__getitem__', '__add__', '__mul__', '__rmul__', '__contains__', 'encode', 'replace', 'split', 'rsplit', 'join', 'capitalize', 'casefold', 'title', 'center', 'count', 'expandtabs', 'find', 'partition', 'index', 'ljust', 'lower', 'lstrip', 'rfind', 'rindex', 'rjust', 'rstrip', 'rpartition', 'splitlines', 'strip', 'swapcase', 'translate', 'upper', 'startswith', 'endswith', 'removeprefix', 'removesuffix', 'isascii', 'islower', 'isupper', 'istitle', 'isspace', 'isdecimal', 'isdigit', 'isnumeric', 'isalpha', 'isalnum', 'isidentifier', 'isprintable', 'zfill', 'format', 'format_map', '__format__', 'maketrans', '__sizeof__', '__getnewargs__', '__doc__', '__setattr__', '__delattr__', '__init__', '__reduce_ex__', '__reduce__', '__getstate__', '__subclasshook__', '__init_subclass__', '__dir__', '__class__']\nI I\n"
                },
                {
                    "ename": "AttributeError",
                    "evalue": "module 'chord_eval' has no attribute 'get_distance'",
                    "output_type": "error",
                    "traceback": [
                        "\u001b[0;31m---------------------------------------------------------------------------\u001b[0m",
                        "\u001b[0;31mAttributeError\u001b[0m                            Traceback (most recent call last)",
                        "Cell \u001b[0;32mIn[7], line 13\u001b[0m\n\u001b[1;32m     11\u001b[0m \u001b[38;5;28;01mfor\u001b[39;00m y, y_hat \u001b[38;5;129;01min\u001b[39;00m \u001b[38;5;28mzip\u001b[39m(pred_chords, org_chords):\n\u001b[1;32m     12\u001b[0m     \u001b[38;5;28mprint\u001b[39m(y, y_hat)\n\u001b[0;32m---> 13\u001b[0m     tone_by_tone \u001b[38;5;241m=\u001b[39m \u001b[43mce\u001b[49m\u001b[38;5;241;43m.\u001b[39;49m\u001b[43mget_distance\u001b[49m(y, y_hat)\n",
                        "\u001b[0;31mAttributeError\u001b[0m: module 'chord_eval' has no attribute 'get_distance'"
                    ]
                }
            ],
            "source": "import chord_eval as ce\n\nstart = 'I'\nlength = 32\n\npred_chords = markov.predict(start, n=length, start_at_current=True)\n\norg_chords = df.values[:length]\n\nfor y, y_hat in zip(pred_chords, org_chords):\n    print(y, y_hat)\n    tone_by_tone = ce.get_distance(y, y_hat)"
        }
    ],
    "metadata": {
        "kernelspec": {
            "display_name": "DCML",
            "language": "python",
            "name": "dcml"
        },
        "language_info": {
            "codemirror_mode": {
                "name": "ipython",
                "version": 3
            },
            "file_extension": ".py",
            "mimetype": "text/x-python",
            "name": "python",
            "nbconvert_exporter": "python",
            "pygments_lexer": "ipython3",
            "version": "3.11.8"
        }
    },
    "nbformat": 4,
    "nbformat_minor": 5
}