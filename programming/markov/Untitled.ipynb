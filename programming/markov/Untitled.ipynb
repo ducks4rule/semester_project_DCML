{
 "cells": [
  {
   "cell_type": "markdown",
   "id": "25012a98",
   "metadata": {},
   "source": [
    "# Definition of a n-gram model for all n"
   ]
  },
  {
   "cell_type": "code",
   "execution_count": 1,
   "id": "c5235203",
   "metadata": {},
   "outputs": [],
   "source": [
    "# packages\n",
    "import pandas as pd\n",
    "import numpy as np\n",
    "\n",
    "import os"
   ]
  },
  {
   "cell_type": "markdown",
   "id": "f1da59ea",
   "metadata": {},
   "source": [
    "loading the data"
   ]
  },
  {
   "cell_type": "code",
   "execution_count": 2,
   "id": "ec513ecc",
   "metadata": {},
   "outputs": [
    {
     "name": "stdout",
     "output_type": "stream",
     "text": [
      "16\n"
     ]
    }
   ],
   "source": [
    "path = '/home/lorenz/Documents/Mathematik/24 FS/Semester_Paper_DCML/data/ABC/harmonies/'\n",
    "file = 'n10op74_01.harmonies.tsv'\n",
    "df_all = pd.read_csv(path + file, sep='\\t')\n",
    "\n",
    "# define new dataframe df with only the 'numeral' column\n",
    "df = df_all['numeral']\n",
    "# df = df_all['chord']\n",
    "df_ = pd.factorize(df)\n",
    "print(len(df_[1]))"
   ]
  },
  {
   "cell_type": "markdown",
   "id": "6e5d74a4",
   "metadata": {},
   "source": [
    "N-gram model"
   ]
  },
  {
   "cell_type": "code",
   "execution_count": 40,
   "id": "1e591b8f",
   "metadata": {},
   "outputs": [],
   "source": [
    "class NGramModel:\n",
    "    def __init__(self, df, n_gram_=2):\n",
    "        self.df = df\n",
    "        self.n_gram = n_gram_\n",
    "\n",
    "        self.clean_data()\n",
    "\n",
    "        self.data = self.generate_n_grams(self.df, self.n_gram)\n",
    "        self.data_ = pd.factorize(self.data)\n",
    "    \n",
    "    def clean_data(self):\n",
    "        # if df_ contains a None value, remove it and the corresponding entry in df\n",
    "        df_ = pd.factorize(self.df)\n",
    "        if None in df_[1]:\n",
    "            ind = np.argwhere(df_[1] is None)\n",
    "            self.df = np.delete(self.df, ind)\n",
    "\n",
    "    # generate n-grams\n",
    "    def generate_n_grams(self, df, n_gram):\n",
    "        chords = df.values\n",
    "        temp = zip(*[chords[i:] for i in range(0, n_gram)])\n",
    "        n_grams = []\n",
    "        for t in temp:\n",
    "            n_grams.append(' '.join(t))\n",
    "        return np.array(n_grams)\n",
    "\n",
    "    # calculate the transition matrix\n",
    "    def transition_probs(self):\n",
    "        trans_mat = np.zeros((len(self.data_[1]), len(self.data_[1])))\n",
    "\n",
    "        # count of transitions\n",
    "        for ch1 in self.data_[1]:\n",
    "            inds = np.argwhere(self.df == ch1).flatten()\n",
    "            # if first entry = 0, remove it \n",
    "            if inds[0] == 0:\n",
    "                inds = np.delete(inds, 0)\n",
    "            for ch2 in self.data_[1]:\n",
    "                before = sum([chd == ch2 for chd in self.df[inds-1]])\n",
    "                trans_mat[self.data_[1] == ch1, self.data_[1] == ch2] = before/len(self.df[inds])\n",
    "        self.trans_mat = trans_mat\n",
    "        return trans_mat\n",
    "\n",
    "    def transform_chords_to_vectors(self, ch):\n",
    "        assert(ch in self.data_[1])\n",
    "        ind =  np.argwhere(self.data_[1] == ch)[0]\n",
    "        vec = np.zeros(len(self.data_[1]))\n",
    "        vec[ind] = 1\n",
    "        return vec\n",
    "\n",
    "    def fit(self):\n",
    "        self.clean_data()\n",
    "        self.trans_mat = self.markov_transition_matrix()\n",
    "        return self\n",
    "\n",
    "    def step(self, ch):\n",
    "        # print('step form ', ch)\n",
    "        vec = self.transform_chords_to_vectors(ch)\n",
    "        out = np.dot(self.trans_mat.T, vec)\n",
    "        return np.random.choice(self.data_[1], 1, p=out)[0]\n",
    "\n",
    "    def predict(self, ch, n=3, verbose=False, start_at_current=False):\n",
    "        seq = []\n",
    "        if start_at_current:\n",
    "            seq.append(ch)\n",
    "\n",
    "        for i in range(n):\n",
    "            ch = self.step(ch)\n",
    "            seq.append(ch)\n",
    "            if verbose:\n",
    "                print(ch)\n",
    "        return seq"
   ]
  },
  {
   "cell_type": "code",
   "execution_count": 39,
   "id": "770a4c16",
   "metadata": {},
   "outputs": [
    {
     "name": "stdout",
     "output_type": "stream",
     "text": [
      "(array([  0,   1,   2,   3,   0,   4,   5,   6,   7,   8,   9,  10,  11,\n",
      "        12,  13,  13,  13,  13,  13,  13,  14,  15,  16,  17,  17,  18,\n",
      "        19,   9,  20,  21,  22,  23,  24,  13,  25,   1,  26,   1,  24,\n",
      "        13,  13,  27,  28,  29,  30,  12,  13,  25,   1,  26,   1,  24,\n",
      "        31,  32,  33,  33,  33,  34,  35,  36,  37,  38,  39,  40,  41,\n",
      "        42,  43,  44,  45,  46,  47,   9,  10,  11,  48,   3,  48,   9,\n",
      "        11,   0,  49,  50,  51,  47,   9,  10,  10,  11,   0,  52,  53,\n",
      "        54,  14,   3,  55,  28,  56,  57,  58,  29,  30,  48,   9,  59,\n",
      "        60,  61,  57,  62,  63,  64,  65,  66,  41,  42,  66,  41,  47,\n",
      "        15,  67,  19,   3,  48,   9,  11,  12,  27,  68,  19,   3,  48,\n",
      "         9,  10,  10,  10,  11,  69,  70,  71,  72,  73,  68,  54,  14,\n",
      "         9,  11,  12,  13,  27,  28,  74,  75,  76,  14,   9,  11,  12,\n",
      "        13,  27,  68,  54,  14,   3,  48,   3,  48,   3,  48,   3,  48,\n",
      "         3,  48,   3,  12,  13,  13,  77,  78,  79,  80,  81,   3,  12,\n",
      "        13,  13,  13,  31,  82,  83,  14,  84,  85,  86,  87,  88,  13,\n",
      "        14,   3,  48,  89,  23,   2,  90,  91,  92,  23,  24,  13,  13,\n",
      "        14,  15,  67,  19,   3,  12,  13,  14,   3,  55,  68,  19,   3,\n",
      "         0,  49,  93,  94,  11,  48,   9,  10,  11,  95,  96,  97,  98,\n",
      "        99, 100,  99, 100,  99, 101, 102,  76,  13,  13,  13,  13,  13,\n",
      "        13,  13,  14,   3,  48,   3,  48,   9,  11,   0,  49, 103,  24,\n",
      "        14,   9,  11,  48,   3,   0,  52, 104,  18,  19,   3,  48,   3,\n",
      "        12,  13,  14,  90, 105,  41,  73,  68,  54,  14,  15,  67,  54,\n",
      "        13,  13,  13,  13, 106, 107, 108,  83, 109, 110, 111, 106, 112,\n",
      "       113,  41,  76, 106, 114, 115, 116, 117,  68, 118, 119, 120, 121,\n",
      "        90, 105,  41,  42,  66,  41,  76, 122, 123, 124,  19,   3,  48,\n",
      "         3,  69, 125, 126,  19,   3,  48,   9,  11,  48,   9, 127,  85,\n",
      "       128, 102,  47,  15,  67, 117,  28,  18,  54,  14,   9,  11,  12,\n",
      "        13,  27,  28,  18,  54,  13,  14,   3,  12,  13,  27,  68,  19,\n",
      "         3,  48,   3,  12,  13,  14,   3,  12,  14,   3,  48,   9,  11,\n",
      "        48,   9,  11, 129, 130, 131, 132, 133, 134, 135, 136, 131,  81,\n",
      "         3,  48,  90, 105, 137, 138, 139,  68, 140, 141, 142, 143, 144,\n",
      "       103,   2,   9,  20,  67,  19,  15,  67,  19,  15,  67,  54,  14,\n",
      "         3,  48,   9,  11,  48,   9,  11,  12,  14,   3,  12,  14,   3,\n",
      "        12,  14,   3,  48,   3,  48,   3,  48,   9,  11,  48,   3,  48,\n",
      "         3,  48]), array(['I V IV', 'V IV V', 'IV V I', 'V I V', 'V IV vii', 'IV vii bVII',\n",
      "       'vii bVII bVII', 'bVII bVII V', 'bVII V I', 'V I I', 'I I I',\n",
      "       'I I V', 'I V V', 'V V V', 'V V I', 'V I ii', 'I ii ii',\n",
      "       'ii ii ii', 'ii ii V', 'ii V I', 'I I ii', 'I ii I', 'ii I IV',\n",
      "       'I IV V', 'IV V V', 'V V IV', 'IV V IV', 'V V ii', 'V ii ii',\n",
      "       'ii ii I', 'ii I V', 'V V iv', 'V iv iv', 'iv iv iv', 'iv iv v',\n",
      "       'iv v v', 'v v v', 'v v iv', 'v iv iv', 'iv iv vii', 'iv vii vii',\n",
      "       'vii vii V', 'vii V vii', 'V vii iv', 'vii iv III', 'iv III vii',\n",
      "       'III vii V', 'vii V I', 'I V I', 'V IV IV', 'IV IV vii',\n",
      "       'IV vii V', 'V IV ii', 'IV ii V', 'ii V V', 'I V ii', 'ii ii vi',\n",
      "       'ii vi ii', 'vi ii ii', 'I I iv', 'I iv ii', 'iv ii vi', 'vi ii I',\n",
      "       'ii I iv', 'I iv V', 'iv V vii', 'V vii vii', 'I ii V', 'V ii V',\n",
      "       'I V vii', 'V vii I', 'vii I vii', 'I vii V', 'vii V ii',\n",
      "       'ii ii vii', 'ii vii V', 'vii V V', 'V V i', 'V i VII',\n",
      "       'i VII #vii', 'VII #vii V', '#vii V I', 'V iv V', 'iv V V',\n",
      "       'V I vi', 'I vi V', 'vi V vi', 'V vi V', 'vi V V', 'V I IV',\n",
      "       'V I vii', 'I vii I', 'vii I IV', 'IV IV I', 'IV I I', 'I V iv',\n",
      "       'V iv vii', 'iv vii V', 'vii V biii', 'V biii V', 'biii V biii',\n",
      "       'biii V vii', 'V vii V', 'IV IV V', 'IV ii ii', 'I vii vii',\n",
      "       'V V vi', 'V vi iv', 'vi iv V', 'V V iii', 'V iii V', 'iii V V',\n",
      "       'V vi vii', 'vi vii vii', 'V vi VI', 'vi VI ii', 'VI ii V',\n",
      "       'ii V ii', 'ii V IV', 'V IV iv', 'IV iv V', 'iv V I', 'V V #vii',\n",
      "       'V #vii ii', '#vii ii V', 'V vii ii', 'vii ii V', 'I I vi',\n",
      "       'vi V vii', 'I V vi', 'V vi #vii', 'vi #vii V', '#vii V #vii',\n",
      "       'V #vii vi', '#vii vi vii', 'vi vii vi', 'vii vi #vii',\n",
      "       'vii vii #vii', 'vii #vii V', '#vii V ii', 'ii V iii', 'V iii vi',\n",
      "       'iii vi vi', 'vi vi IV', 'vi IV IV'], dtype='<U13'))\n"
     ]
    }
   ],
   "source": [
    "n_gram = NGramModel(df, n_gram_=3)\n",
    "print(n_gram.data_)"
   ]
  },
  {
   "cell_type": "markdown",
   "id": "be2fa388",
   "metadata": {},
   "source": [
    "fit the model"
   ]
  },
  {
   "cell_type": "code",
   "execution_count": null,
   "id": "e7adb540",
   "metadata": {},
   "outputs": [],
   "source": [
    "markov = MarkovChain(df).fit()\n",
    "# markov.predict('I', n=36, verbose=True)"
   ]
  },
  {
   "cell_type": "markdown",
   "id": "56fcf10c",
   "metadata": {},
   "source": [
    "test the metrics"
   ]
  },
  {
   "cell_type": "code",
   "execution_count": null,
   "id": "f62e08b9",
   "metadata": {},
   "outputs": [],
   "source": [
    "import chord_eval as ce\n",
    "\n",
    "start = 'I'\n",
    "length = 32\n",
    "\n",
    "pred_chords = markov.predict(start, n=length, start_at_current=True)\n",
    "\n",
    "org_chords = df.values[:length]\n",
    "\n",
    "for y, y_hat in zip(pred_chords, org_chords):\n",
    "    print(y, y_hat)\n",
    "    tone_by_tone = ce.get_distance(y, y_hat)"
   ]
  }
 ],
 "metadata": {
  "kernelspec": {
   "display_name": "DCML",
   "language": "python",
   "name": "dcml"
  },
  "language_info": {
   "codemirror_mode": {
    "name": "ipython",
    "version": 3
   },
   "file_extension": ".py",
   "mimetype": "text/x-python",
   "name": "python",
   "nbconvert_exporter": "python",
   "pygments_lexer": "ipython3",
   "version": "3.11.8"
  }
 },
 "nbformat": 4,
 "nbformat_minor": 5
}
