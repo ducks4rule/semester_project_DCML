{
    "cells": [
        {
            "cell_type": "markdown",
            "metadata": {},
            "source": "# Definition of a n-gram model for all n"
        },
        {
            "cell_type": "code",
            "execution_count": 1,
            "metadata": {
                "trusted": true
            },
            "outputs": [],
            "source": "# packages\nimport pandas as pd\nimport numpy as np\n\nimport os"
        },
        {
            "cell_type": "markdown",
            "metadata": {},
            "source": "loading the data"
        },
        {
            "cell_type": "code",
            "execution_count": 2,
            "metadata": {
                "trusted": true
            },
            "outputs": [
                {
                    "name": "stdout",
                    "output_type": "stream",
                    "text": "16\n"
                }
            ],
            "source": "path = '~/Documents/Mathematik/24 FS/Semester_Paper_DCML/data/ABC/harmonies/'\nfile = 'n10op74_01.harmonies.tsv'\ndf_all = pd.read_csv(path + file, sep='\\t')\n\n# define new dataframe df with only the 'numeral' column\ndf = df_all['numeral']\n# df = df_all['chord']\ndf_ = pd.factorize(df)\nprint(len(df_[1]))"
        },
        {
            "cell_type": "markdown",
            "metadata": {},
            "source": "N-gram model"
        },
        {
            "cell_type": "code",
            "execution_count": 150,
            "metadata": {
                "trusted": true
            },
            "outputs": [],
            "source": "class NGramModel:\n    def __init__(self, df, n_gram_: int = 2):\n        self.df = df\n        self.df_ = pd.factorize(df)\n        assert(n_gram_ > 1)\n        self.n_gram = n_gram_\n\n        self.clean_data()\n\n        self.input_df = self.generate_n_grams(self.df, self.n_gram-1)\n        self.input_df_ = pd.factorize(self.input_df)\n        self.data = self.generate_n_grams(self.df, self.n_gram)\n        self.data_ = pd.factorize(self.data)\n    \n    def clean_data(self):\n        # if df_ contains a None value, remove it and the corresponding entry in df\n        if None in self.df_[1]:\n            ind = np.argwhere(df_[1] is None)\n            self.df = np.delete(self.df, ind)\n\n    # generate n-grams\n    def generate_n_grams(self, df, n_gram):\n        chords = df.values\n        temp = zip(*[chords[i:] for i in range(0, n_gram)])\n        n_grams = []\n        for t in temp:\n            n_grams.append(' '.join(t))\n        return np.array(n_grams)\n\n    # calculate the transition matrix\n    def transition_probs(self):\n        trans_mat = np.zeros((len(self.input_df_[1]), len(self.df_[1])))\n\n        # count of transitions\n        # data_split = np.array([tok.split()[:self.n_gram-1] for tok in self.data_[1]])\n        for ch_lab, chords in enumerate(self.input_df_[1]):\n            inds_chords = np.argwhere(self.input_df == chords).flatten()\n            data_short = []\n            labels_data = []\n            for i, dat in enumerate(self.data_[1]):\n                if dat.startswith(chords):\n                    data_short.append(dat)\n                    labels_data.append(i)\n                \n            before_count = len(inds_chords)\n            followers = [tok.split()[-1] for tok in data_short]\n            ind_followers = [np.argwhere(self.df_[1] == f)[0][0] for f in followers]\n            followers_count = [sum(data_s == self.data) for data_s in data_short]\n            followers_prob = [f_c/before_count for f_c in followers_count]\n            for j, ind in enumerate(ind_followers):\n                trans_mat[ch_lab, ind] = followers_prob[j]\n        return trans_mat\n\n    def transform_chords_to_vectors(self, ch):\n        assert(ch in self.input_df_[1])\n        ind =  np.argwhere(self.input_df_[1] == ch)[0]\n        vec = np.zeros(len(self.input_df_[1]))\n        vec[ind] = 1\n        return vec\n\n    def fit(self):\n        self.clean_data()\n        self.trans_mat = self.transition_probs()\n        return self\n\n    def step(self, ch):\n        if len(ch.split()) == self.n_gram-1:\n            print('simple step')\n            return self.simple_step(ch)\n        elif len(ch.split()) == 1:\n            # TODO markov chain\n            print('TODO this is where the markov chain should be')\n        else:\n            temp_mod = NGramModel(self.df, n_gram_=len(ch.split()) + 1)\n            print('difficult step')\n            return temp_mod.fit().step(ch)\n\n    def simple_step(self, chs):\n        vec = self.transform_chords_to_vectors(chs)\n        out = np.dot(self.trans_mat.T, vec)\n        return np.random.choice(self.df_[1], 1, p=out)[0]\n\n    def predict(self, ch, n=5, verbose=False):\n        seq = [ch]\n        for i in range(n):\n            print('step ', i)\n            ch_temp = self.step(ch)\n            seq.append(ch_temp)\n            from_i = min(i, self.n_gram-1)\n            ch = ' '.join(seq[-from_i:])\n            print('ch ', ch)\n            if verbose:\n                print(ch)\n        return seq"
        },
        {
            "cell_type": "code",
            "execution_count": 151,
            "metadata": {
                "trusted": true
            },
            "outputs": [
                {
                    "name": "stdout",
                    "output_type": "stream",
                    "text": "step  0\ndifficult step\nsimple step\nch  I V I\nI V I\nstep  1\nsimple step\n"
                },
                {
                    "ename": "ValueError",
                    "evalue": "probabilities do not sum to 1",
                    "output_type": "error",
                    "traceback": [
                        "\u001b[0;31m---------------------------------------------------------------------------\u001b[0m",
                        "\u001b[0;31mValueError\u001b[0m                                Traceback (most recent call last)",
                        "Cell \u001b[0;32mIn[151], line 3\u001b[0m\n\u001b[1;32m      1\u001b[0m n_gram \u001b[38;5;241m=\u001b[39m NGramModel(df, n_gram_\u001b[38;5;241m=\u001b[39m\u001b[38;5;241m4\u001b[39m)\n\u001b[1;32m      2\u001b[0m n_gram\u001b[38;5;241m.\u001b[39mfit()\n\u001b[0;32m----> 3\u001b[0m pred \u001b[38;5;241m=\u001b[39m \u001b[43mn_gram\u001b[49m\u001b[38;5;241;43m.\u001b[39;49m\u001b[43mpredict\u001b[49m\u001b[43m(\u001b[49m\u001b[38;5;124;43m'\u001b[39;49m\u001b[38;5;124;43mI V\u001b[39;49m\u001b[38;5;124;43m'\u001b[39;49m\u001b[43m,\u001b[49m\u001b[43mn\u001b[49m\u001b[38;5;241;43m=\u001b[39;49m\u001b[38;5;241;43m5\u001b[39;49m\u001b[43m,\u001b[49m\u001b[43m \u001b[49m\u001b[43mverbose\u001b[49m\u001b[38;5;241;43m=\u001b[39;49m\u001b[38;5;28;43;01mTrue\u001b[39;49;00m\u001b[43m)\u001b[49m\n\u001b[1;32m      4\u001b[0m \u001b[38;5;28mprint\u001b[39m(\u001b[38;5;124m'\u001b[39m\u001b[38;5;124mseq \u001b[39m\u001b[38;5;124m'\u001b[39m, pred)\n",
                        "Cell \u001b[0;32mIn[150], line 87\u001b[0m, in \u001b[0;36mNGramModel.predict\u001b[0;34m(self, ch, n, verbose)\u001b[0m\n\u001b[1;32m     85\u001b[0m \u001b[38;5;28;01mfor\u001b[39;00m i \u001b[38;5;129;01min\u001b[39;00m \u001b[38;5;28mrange\u001b[39m(n):\n\u001b[1;32m     86\u001b[0m     \u001b[38;5;28mprint\u001b[39m(\u001b[38;5;124m'\u001b[39m\u001b[38;5;124mstep \u001b[39m\u001b[38;5;124m'\u001b[39m, i)\n\u001b[0;32m---> 87\u001b[0m     ch_temp \u001b[38;5;241m=\u001b[39m \u001b[38;5;28;43mself\u001b[39;49m\u001b[38;5;241;43m.\u001b[39;49m\u001b[43mstep\u001b[49m\u001b[43m(\u001b[49m\u001b[43mch\u001b[49m\u001b[43m)\u001b[49m\n\u001b[1;32m     88\u001b[0m     seq\u001b[38;5;241m.\u001b[39mappend(ch_temp)\n\u001b[1;32m     89\u001b[0m     from_i \u001b[38;5;241m=\u001b[39m \u001b[38;5;28mmin\u001b[39m(i, \u001b[38;5;28mself\u001b[39m\u001b[38;5;241m.\u001b[39mn_gram\u001b[38;5;241m-\u001b[39m\u001b[38;5;241m1\u001b[39m)\n",
                        "Cell \u001b[0;32mIn[150], line 69\u001b[0m, in \u001b[0;36mNGramModel.step\u001b[0;34m(self, ch)\u001b[0m\n\u001b[1;32m     67\u001b[0m \u001b[38;5;28;01mif\u001b[39;00m \u001b[38;5;28mlen\u001b[39m(ch\u001b[38;5;241m.\u001b[39msplit()) \u001b[38;5;241m==\u001b[39m \u001b[38;5;28mself\u001b[39m\u001b[38;5;241m.\u001b[39mn_gram\u001b[38;5;241m-\u001b[39m\u001b[38;5;241m1\u001b[39m:\n\u001b[1;32m     68\u001b[0m     \u001b[38;5;28mprint\u001b[39m(\u001b[38;5;124m'\u001b[39m\u001b[38;5;124msimple step\u001b[39m\u001b[38;5;124m'\u001b[39m)\n\u001b[0;32m---> 69\u001b[0m     \u001b[38;5;28;01mreturn\u001b[39;00m \u001b[38;5;28;43mself\u001b[39;49m\u001b[38;5;241;43m.\u001b[39;49m\u001b[43msimple_step\u001b[49m\u001b[43m(\u001b[49m\u001b[43mch\u001b[49m\u001b[43m)\u001b[49m\n\u001b[1;32m     70\u001b[0m \u001b[38;5;28;01melif\u001b[39;00m \u001b[38;5;28mlen\u001b[39m(ch\u001b[38;5;241m.\u001b[39msplit()) \u001b[38;5;241m==\u001b[39m \u001b[38;5;241m1\u001b[39m:\n\u001b[1;32m     71\u001b[0m     \u001b[38;5;66;03m# TODO markov chain\u001b[39;00m\n\u001b[1;32m     72\u001b[0m     \u001b[38;5;28mprint\u001b[39m(\u001b[38;5;124m'\u001b[39m\u001b[38;5;124mTODO this is where the markov chain should be\u001b[39m\u001b[38;5;124m'\u001b[39m)\n",
                        "Cell \u001b[0;32mIn[150], line 81\u001b[0m, in \u001b[0;36mNGramModel.simple_step\u001b[0;34m(self, chs)\u001b[0m\n\u001b[1;32m     79\u001b[0m vec \u001b[38;5;241m=\u001b[39m \u001b[38;5;28mself\u001b[39m\u001b[38;5;241m.\u001b[39mtransform_chords_to_vectors(chs)\n\u001b[1;32m     80\u001b[0m out \u001b[38;5;241m=\u001b[39m np\u001b[38;5;241m.\u001b[39mdot(\u001b[38;5;28mself\u001b[39m\u001b[38;5;241m.\u001b[39mtrans_mat\u001b[38;5;241m.\u001b[39mT, vec)\n\u001b[0;32m---> 81\u001b[0m \u001b[38;5;28;01mreturn\u001b[39;00m \u001b[43mnp\u001b[49m\u001b[38;5;241;43m.\u001b[39;49m\u001b[43mrandom\u001b[49m\u001b[38;5;241;43m.\u001b[39;49m\u001b[43mchoice\u001b[49m\u001b[43m(\u001b[49m\u001b[38;5;28;43mself\u001b[39;49m\u001b[38;5;241;43m.\u001b[39;49m\u001b[43mdf_\u001b[49m\u001b[43m[\u001b[49m\u001b[38;5;241;43m1\u001b[39;49m\u001b[43m]\u001b[49m\u001b[43m,\u001b[49m\u001b[43m \u001b[49m\u001b[38;5;241;43m1\u001b[39;49m\u001b[43m,\u001b[49m\u001b[43m \u001b[49m\u001b[43mp\u001b[49m\u001b[38;5;241;43m=\u001b[39;49m\u001b[43mout\u001b[49m\u001b[43m)\u001b[49m[\u001b[38;5;241m0\u001b[39m]\n",
                        "File \u001b[0;32mnumpy/random/mtrand.pyx:975\u001b[0m, in \u001b[0;36mnumpy.random.mtrand.RandomState.choice\u001b[0;34m()\u001b[0m\n",
                        "\u001b[0;31mValueError\u001b[0m: probabilities do not sum to 1"
                    ]
                }
            ],
            "source": "n_gram = NGramModel(df, n_gram_=4)\nn_gram.fit()\npred = n_gram.predict('I V',n=5, verbose=True)\nprint('seq ', pred)"
        },
        {
            "cell_type": "markdown",
            "metadata": {},
            "source": "fit the model"
        },
        {
            "cell_type": "code",
            "execution_count": null,
            "metadata": {
                "trusted": true
            },
            "outputs": [],
            "source": "markov = MarkovChain(df).fit()\n# markov.predict('I', n=36, verbose=True)"
        },
        {
            "cell_type": "markdown",
            "metadata": {},
            "source": "test the metrics"
        },
        {
            "cell_type": "code",
            "execution_count": null,
            "metadata": {
                "trusted": true
            },
            "outputs": [],
            "source": "import chord_eval as ce\n\nstart = 'I'\nlength = 32\n\npred_chords = markov.predict(start, n=length, start_at_current=True)\n\norg_chords = df.values[:length]\n\nfor y, y_hat in zip(pred_chords, org_chords):\n    print(y, y_hat)\n    tone_by_tone = ce.get_distance(y, y_hat)"
        }
    ],
    "metadata": {
        "kernelspec": {
            "display_name": "DCML",
            "language": "python",
            "name": "dcml"
        },
        "language_info": {
            "codemirror_mode": {
                "name": "ipython",
                "version": 3
            },
            "file_extension": ".py",
            "mimetype": "text/x-python",
            "name": "python",
            "nbconvert_exporter": "python",
            "pygments_lexer": "ipython3",
            "version": "3.11.8"
        }
    },
    "nbformat": 4,
    "nbformat_minor": 5
}