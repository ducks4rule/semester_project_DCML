{
    "cells": [
        {
            "cell_type": "markdown",
            "metadata": {},
            "source": "# Definition of a simple 1-gram Model"
        },
        {
            "cell_type": "code",
            "execution_count": null,
            "metadata": {
                "trusted": true
            },
            "outputs": [],
            "source": "# packages\nimport torch\nimport torch.nn as nn\nimport torch.optim as optim\nimport torch.utils\nimport torch.utils.data\nfrom torch.utils.data import DataLoader\n\nimport pandas as pd\nimport numpy as np\n\nimport os"
        },
        {
            "cell_type": "markdown",
            "metadata": {},
            "source": "loading the data"
        },
        {
            "cell_type": "code",
            "execution_count": null,
            "metadata": {
                "trusted": true
            },
            "outputs": [],
            "source": "path = '/home/lorenz/Documents/Mathematik/24 FS/Semester_Paper_DCML/data/ABC/harmonies/n10op74_01.harmonies.tsv'\ndf_all = pd.read_csv(path, sep='\\t')\nprint(df_all.columns)\n\n# define new dataframe df with only the 'numeral' column\ndf = df_all['numeral']\n# df = df_all['chord']\ndf_ = pd.factorize(df)\nprint(len(df_[1]))"
        },
        {
            "cell_type": "markdown",
            "metadata": {},
            "source": "Markov chain model"
        },
        {
            "cell_type": "code",
            "execution_count": null,
            "metadata": {
                "trusted": true
            },
            "outputs": [],
            "source": "class MarkovChain:\n    def __init__(self, df):\n        self.df = df\n        self.df_ = pd.factorize(df)\n        self.trans_mat = np.zeros((len(df_[1]), len(df_[1])))\n    \n    def clean_data(self):\n        # if df_ contains a None value, remove it and the corresponding entry in df\n        if None in self.df_[1]:\n            ind = np.argwhere(self.df_[1] is None)\n            self.df = np.delete(self.df, ind)\n            self.df_ = pd.factorize(self.df)\n\n    # calculate the transition matrix\n    def markov_transition_matrix(self):\n        trans_mat = np.zeros((len(self.df_[1]), len(self.df_[1])))\n\n        # count of transitions\n        for ch1 in self.df_[1]:\n            inds = np.argwhere(self.df == ch1).flatten()\n            # if first entry = 0, remove it \n            if inds[0] == 0:\n                inds = np.delete(inds, 0)\n            for ch2 in self.df_[1]:\n                before = sum([chd == ch2 for chd in self.df[inds-1]])\n                trans_mat[self.df_[1] == ch1, self.df_[1] == ch2] = before/len(self.df[inds])\n        self.trans_mat = trans_mat\n        return trans_mat\n\n    def transform_chords_to_vectors(self, ch):\n        assert(ch in self.df_[1])\n        ind =  np.argwhere(self.df_[1] == ch)[0]\n        vec = np.zeros(len(self.df_[1]))\n        vec[ind] = 1\n        return vec\n\n    def fit(self):\n        self.clean_data()\n        self.trans_mat = self.markov_transition_matrix()\n        return self\n\n    def step(self, ch):\n        # print('step form ', ch)\n        vec = self.transform_chords_to_vectors(ch)\n        out = np.dot(self.trans_mat.T, vec)\n        return np.random.choice(self.df_[1], 1, p=out)[0]\n\n    def predict(self, ch, n=3, verbose=False, start_at_current=False):\n        seq = []\n        if start_at_current:\n            seq.append(ch)\n\n        for i in range(n):\n            ch = self.step(ch)\n            seq.append(ch)\n            if verbose:\n                print(ch)\n        return seq"
        },
        {
            "cell_type": "markdown",
            "metadata": {},
            "source": "fit the model"
        },
        {
            "cell_type": "code",
            "execution_count": null,
            "metadata": {
                "trusted": true
            },
            "outputs": [],
            "source": "length_of_pred = 36\nmarkov = MarkovChain(df).fit()\npred = markov.predict('I', n=length_of_pred, verbose=True)"
        },
        {
            "cell_type": "markdown",
            "metadata": {},
            "source": "save transition matrix and predictions"
        },
        {
            "cell_type": "code",
            "execution_count": null,
            "metadata": {
                "trusted": true
            },
            "outputs": [],
            "source": "# save predictions and ground truth in two files\nnp.savetxt('markov_predictions.csv', pred, delimiter=',', fmt='%s')\nnp.savetxt('markov_ground_truth.csv', df[:length_of_pred], delimiter=',', fmt='%s')"
        },
        {
            "cell_type": "code",
            "execution_count": null,
            "metadata": {
                "trusted": true
            },
            "outputs": [],
            "source": "# save transition matrix in latx compatible format\nmatrix = markov.markov_transition_matrix()\nnp.savetxt('markov_transition_matrix.csv', matrix, delimiter=' & ', fmt='%1.2f', newline=' \\\\\\\\\\n')"
        }
    ],
    "metadata": {
        "kernelspec": {
            "display_name": "DCML",
            "language": "python",
            "name": "dcml"
        },
        "language_info": {
            "codemirror_mode": {
                "name": "ipython",
                "version": 3
            },
            "file_extension": ".py",
            "mimetype": "text/x-python",
            "name": "python",
            "nbconvert_exporter": "python",
            "pygments_lexer": "ipython3",
            "version": "3.11.8"
        }
    },
    "nbformat": 4,
    "nbformat_minor": 5
}