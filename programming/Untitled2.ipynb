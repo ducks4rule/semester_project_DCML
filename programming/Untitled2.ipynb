{
 "cells": [
  {
   "cell_type": "markdown",
   "id": "007efccf",
   "metadata": {},
   "source": [
    "# Definition of a n-gram model for all n"
   ]
  },
  {
   "cell_type": "code",
   "execution_count": 2,
   "id": "e4d5c1d1",
   "metadata": {},
   "outputs": [
    {
     "ename": "ModuleNotFoundError",
     "evalue": "No module named 'markov_chain'",
     "output_type": "error",
     "traceback": [
      "\u001b[0;31m---------------------------------------------------------------------------\u001b[0m",
      "\u001b[0;31mModuleNotFoundError\u001b[0m                       Traceback (most recent call last)",
      "Cell \u001b[0;32mIn[2], line 5\u001b[0m\n\u001b[1;32m      2\u001b[0m \u001b[38;5;28;01mimport\u001b[39;00m \u001b[38;5;21;01mpandas\u001b[39;00m \u001b[38;5;28;01mas\u001b[39;00m \u001b[38;5;21;01mpd\u001b[39;00m\n\u001b[1;32m      3\u001b[0m \u001b[38;5;28;01mimport\u001b[39;00m \u001b[38;5;21;01mnumpy\u001b[39;00m \u001b[38;5;28;01mas\u001b[39;00m \u001b[38;5;21;01mnp\u001b[39;00m\n\u001b[0;32m----> 5\u001b[0m \u001b[38;5;28;01mfrom\u001b[39;00m \u001b[38;5;21;01mmarkov_chain\u001b[39;00m\u001b[38;5;21;01m.\u001b[39;00m\u001b[38;5;21;01mju\u001b[39;00m\u001b[38;5;21;01m.\u001b[39;00m\u001b[38;5;21;01mpy\u001b[39;00m \u001b[38;5;28;01mimport\u001b[39;00m MarkovChain\n",
      "\u001b[0;31mModuleNotFoundError\u001b[0m: No module named 'markov_chain'"
     ]
    }
   ],
   "source": [
    "# packages\n",
    "import pandas as pd\n",
    "import numpy as np\n",
    "\n",
    "from markov_chain.ju.py import MarkovChain"
   ]
  },
  {
   "cell_type": "markdown",
   "id": "de172551",
   "metadata": {},
   "source": [
    "loading the data"
   ]
  },
  {
   "cell_type": "code",
   "execution_count": null,
   "id": "28875d50",
   "metadata": {},
   "outputs": [],
   "source": [
    "path = '~/Documents/Mathematik/24 FS/Semester_Paper_DCML/data/ABC/harmonies/'\n",
    "file = 'n10op74_01.harmonies.tsv'\n",
    "df_all = pd.read_csv(path + file, sep='\\t')\n",
    "\n",
    "# define new dataframe df with only the 'numeral' column\n",
    "df = df_all['numeral']\n",
    "# df = df_all['chord']\n",
    "df_ = pd.factorize(df)\n",
    "print(len(df_[1]))"
   ]
  },
  {
   "cell_type": "markdown",
   "id": "69308808",
   "metadata": {},
   "source": [
    "N-gram model"
   ]
  },
  {
   "cell_type": "code",
   "execution_count": null,
   "id": "f04a4b4f",
   "metadata": {},
   "outputs": [],
   "source": [
    "class NGramModel:\n",
    "    def __init__(self, df, n_gram_: int = 2):\n",
    "        self.df = df\n",
    "        self.df_ = pd.factorize(df)\n",
    "        assert(n_gram_ > 1)\n",
    "        self.n_gram = n_gram_\n",
    "\n",
    "        self.clean_data()\n",
    "\n",
    "        self.input_df = self.generate_n_grams(self.df, self.n_gram-1)\n",
    "        self.input_df_ = pd.factorize(self.input_df)\n",
    "        self.data = self.generate_n_grams(self.df, self.n_gram)\n",
    "        self.data_ = pd.factorize(self.data)\n",
    "    \n",
    "    def clean_data(self):\n",
    "        # if df_ contains a None value, remove it and the corresponding entry in df\n",
    "        if None in self.df_[1]:\n",
    "            ind = np.argwhere(df_[1] is None)\n",
    "            self.df = np.delete(self.df, ind)\n",
    "\n",
    "    # generate n-grams\n",
    "    def generate_n_grams(self, df, n_gram):\n",
    "        chords = df.values\n",
    "        temp = zip(*[chords[i:] for i in range(0, n_gram)])\n",
    "        n_grams = []\n",
    "        for t in temp:\n",
    "            n_grams.append(' '.join(t))\n",
    "        return np.array(n_grams)\n",
    "\n",
    "    # calculate the transition matrix\n",
    "    def transition_probs(self):\n",
    "        trans_mat = np.zeros((len(self.input_df_[1]), len(self.df_[1])))\n",
    "\n",
    "        # count of transitions\n",
    "        # data_split = np.array([tok.split()[:self.n_gram-1] for tok in self.data_[1]])\n",
    "        for ch_lab, chords in enumerate(self.input_df_[1]):\n",
    "            inds_chords = np.argwhere(self.input_df == chords).flatten()\n",
    "            data_short = []\n",
    "            labels_data = []\n",
    "            for i, dat in enumerate(self.data_[1]):\n",
    "                if dat.startswith(chords):\n",
    "                    data_short.append(dat)\n",
    "                    labels_data.append(i)\n",
    "                \n",
    "            before_count = len(inds_chords)\n",
    "            followers = [tok.split()[-1] for tok in data_short]\n",
    "            ind_followers = [np.argwhere(self.df_[1] == f)[0][0] for f in followers]\n",
    "            followers_count = [sum(data_s == self.data) for data_s in data_short]\n",
    "            followers_prob = [f_c/before_count for f_c in followers_count]\n",
    "            for j, ind in enumerate(ind_followers):\n",
    "                trans_mat[ch_lab, ind] = followers_prob[j]\n",
    "        return trans_mat\n",
    "\n",
    "    def transform_chords_to_vectors(self, ch):\n",
    "        assert(ch in self.input_df_[1])\n",
    "        ind =  np.argwhere(self.input_df_[1] == ch)[0]\n",
    "        vec = np.zeros(len(self.input_df_[1]))\n",
    "        vec[ind] = 1\n",
    "        return vec\n",
    "\n",
    "    def fit(self):\n",
    "        self.clean_data()\n",
    "        self.trans_mat = self.transition_probs()\n",
    "        return self\n",
    "\n",
    "    def step(self, ch):\n",
    "        if len(ch.split()) == self.n_gram-1:\n",
    "            print('simple step')\n",
    "            return self.simple_step(ch)\n",
    "        elif len(ch.split()) == 1:\n",
    "            model = MarkovChain(self.df).fit()\n",
    "            return model.step(ch)\n",
    "        else:\n",
    "            temp_mod = NGramModel(self.df, n_gram_=len(ch.split()) + 1)\n",
    "            print('difficult step')\n",
    "            return temp_mod.fit().step(ch)\n",
    "\n",
    "    def simple_step(self, chs):\n",
    "        vec = self.transform_chords_to_vectors(chs)\n",
    "        out = np.dot(self.trans_mat.T, vec)\n",
    "        return np.random.choice(self.df_[1], 1, p=out)[0]\n",
    "\n",
    "    def predict(self, ch, n=5, verbose=False):\n",
    "        seq = [ch]\n",
    "        for i in range(n):\n",
    "            print('step ', i)\n",
    "            ch_temp = self.step(ch)\n",
    "            seq.append(ch_temp)\n",
    "            from_i = min(i, self.n_gram-1)\n",
    "            ch = ' '.join(seq[-from_i:])\n",
    "            print('ch ', ch)\n",
    "            if verbose:\n",
    "                print(ch)\n",
    "        return seq"
   ]
  },
  {
   "cell_type": "code",
   "execution_count": null,
   "id": "571d1fef",
   "metadata": {},
   "outputs": [],
   "source": [
    "n_gram = NGramModel(df, n_gram_=4)\n",
    "n_gram.fit()\n",
    "pred = n_gram.predict('I V',n=5, verbose=True)\n",
    "print('seq ', pred)"
   ]
  },
  {
   "cell_type": "markdown",
   "id": "7108cebe",
   "metadata": {},
   "source": [
    "fit the model"
   ]
  },
  {
   "cell_type": "code",
   "execution_count": null,
   "id": "a6fa2fc0",
   "metadata": {},
   "outputs": [],
   "source": [
    "markov = MarkovChain(df).fit()\n",
    "# markov.predict('I', n=36, verbose=True)"
   ]
  },
  {
   "cell_type": "markdown",
   "id": "ff54e3da",
   "metadata": {},
   "source": [
    "test the metrics"
   ]
  },
  {
   "cell_type": "code",
   "execution_count": null,
   "id": "f67196eb",
   "metadata": {},
   "outputs": [],
   "source": [
    "import chord_eval as ce\n",
    "\n",
    "start = 'I'\n",
    "length = 32\n",
    "\n",
    "pred_chords = markov.predict(start, n=length, start_at_current=True)\n",
    "\n",
    "org_chords = df.values[:length]\n",
    "\n",
    "for y, y_hat in zip(pred_chords, org_chords):\n",
    "    print(y, y_hat)\n",
    "    tone_by_tone = ce.get_distance(y, y_hat)"
   ]
  }
 ],
 "metadata": {
  "kernelspec": {
   "display_name": "DCML",
   "language": "python",
   "name": "dcml"
  },
  "language_info": {
   "codemirror_mode": {
    "name": "ipython",
    "version": 3
   },
   "file_extension": ".py",
   "mimetype": "text/x-python",
   "name": "python",
   "nbconvert_exporter": "python",
   "pygments_lexer": "ipython3",
   "version": "3.11.8"
  }
 },
 "nbformat": 4,
 "nbformat_minor": 5
}
