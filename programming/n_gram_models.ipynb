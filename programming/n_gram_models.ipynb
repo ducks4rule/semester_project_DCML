{
    "cells": [
        {
            "cell_type": "markdown",
            "metadata": {},
            "source": "# Definition of a n-gram model for all n"
        },
        {
            "cell_type": "code",
            "execution_count": 73,
            "metadata": {
                "trusted": true
            },
            "outputs": [],
            "source": "# packages\nimport pandas as pd\nimport numpy as np"
        },
        {
            "cell_type": "markdown",
            "metadata": {},
            "source": "loading the data"
        },
        {
            "cell_type": "code",
            "execution_count": 85,
            "metadata": {
                "trusted": true
            },
            "outputs": [],
            "source": "class MyToken:\n    def __init__(self,\n                 numeral_: str,\n                 inversion_: str):\n        self.numeral = numeral_\n        self.inversion = inversion_\n\n    def __repr__(self):\n        return f'{self.numeral} {self.inversion}'\n\n    def __eq__(self, other):\n        return self.numeral == other.numeral and self.inversion == other.inversion\n    def __hash__(self):\n        return hash(repr(self))\n\n    def get_all_numerals(self, ts):\n        return [t.numeral for t in ts]\n\n    def get_all_inversions(self, ts):\n        return [t.inversion for t in ts]"
        },
        {
            "cell_type": "code",
            "execution_count": 79,
            "metadata": {
                "trusted": true
            },
            "outputs": [
                {
                    "name": "stdout",
                    "output_type": "stream",
                    "text": "[I 0 V 2 IV 6 V 43 vii 65 bVII 6 V 7 V 6 V 0 I 6 ii 6 ii 0 ii 2 V 65 ii 65\n I 64 ii 43 iv 0 v 0 vii 7 vii 43 III 64 IV 0 vii 0 ii 7 vi 0 iv 6 ii 64\n V 64 i 0 VII 6 #vii 0 vii 6 iv 64 biii 0 biii 6 iv 43 iii 0 VI 2 vii 2\n #vii 6 #vii 7 #vii 43 vi 6 #vii 65 iii 6 vi 7]\n"
                },
                {
                    "name": "stderr",
                    "output_type": "stream",
                    "text": "/tmp/ipykernel_39151/1693408933.py:4: FutureWarning: A value is trying to be set on a copy of a DataFrame or Series through chained assignment using an inplace method.\nThe behavior will change in pandas 3.0. This inplace method will never work because the intermediate object on which we are setting values always behaves as a copy.\n\nFor example, when doing 'df[col].method(value, inplace=True)', try using 'df.method({col: value}, inplace=True)' or df[col] = df[col].method(value) instead, to perform the operation inplace on the original object.\n\n\n  df_all['figbass'].fillna('0', inplace=True)\n/tmp/ipykernel_39151/1693408933.py:4: FutureWarning: Setting an item of incompatible dtype is deprecated and will raise an error in a future version of pandas. Value '0' has dtype incompatible with float64, please explicitly cast to a compatible dtype first.\n  df_all['figbass'].fillna('0', inplace=True)\n/tmp/ipykernel_39151/1693408933.py:13: FutureWarning: factorize with argument that is not not a Series, Index, ExtensionArray, or np.ndarray is deprecated and will raise in a future version.\n  df_ = pd.factorize(df)\n"
                }
            ],
            "source": "path = '~/Documents/Mathematik/24 FS/Semester_Paper_DCML/data/ABC/harmonies/'\nfile = 'n10op74_01.harmonies.tsv'\ndf_all = pd.read_csv(path + file, sep='\\t')\ndf_all['figbass'].fillna('0', inplace=True)\ndf_all['figbass'] = df_all['figbass'].astype(int).astype(str)\n\n# define new dataframe df with only the 'numeral' column\n# df = df_all[['numeral', 'figbass']].values\ndf = []\nfor t in zip(df_all['numeral'], df_all['figbass']):\n    df.append(MyToken(t[0], t[1]))\n    \ndf_ = pd.factorize(df)"
        },
        {
            "cell_type": "markdown",
            "metadata": {},
            "source": "N-gram model"
        },
        {
            "cell_type": "code",
            "execution_count": 92,
            "metadata": {
                "trusted": true
            },
            "outputs": [],
            "source": "class NGramModel:\n    def __init__(self, df: list, n_gram_: int = 2):\n        self.df = df\n        self.df_ = pd.factorize(df)\n        assert(n_gram_ > 1)\n        self.n_gram = n_gram_\n\n        self.input_df = self.generate_n_grams(self.df, self.n_gram-1)\n        print(np.shape(self.input_df))\n        # self.input_df_ = pd.factorize(self.input_df)\n        self.data = self.generate_n_grams(self.df, self.n_gram)\n        print(np.shape(self.data))\n        self.data_ = pd.factorize(self.data)\n    \n    # generate n-grams\n    def generate_n_grams(self, df, n_gram):\n        chords = df\n        temp = zip(*[chords[i:] for i in range(0, n_gram)])\n        n_grams = []\n        for t in temp:\n            n_grams.append(t)\n        return n_grams\n\n    # calculate the transition matrix\n    def transition_probs(self):\n        trans_mat = np.zeros((len(self.input_df_[1]), len(self.df_[1])))\n\n        # count of transitions\n        # data_split = np.array([tok.split()[:self.n_gram-1] for tok in self.data_[1]])\n        for ch_lab, chords in enumerate(self.input_df_[1]):\n            inds_chords = np.argwhere(self.input_df == chords).flatten()\n            data_short = []\n            labels_data = []\n            for i, dat in enumerate(self.data_[1]):\n                if dat.startswith(chords):\n                    data_short.append(dat)\n                    labels_data.append(i)\n                \n            before_count = len(inds_chords)\n            followers = [tok.split()[-1] for tok in data_short]\n            ind_followers = [np.argwhere(self.df_[1] == f)[0][0] for f in followers]\n            followers_count = [sum(data_s == self.data) for data_s in data_short]\n            followers_prob = [f_c/before_count for f_c in followers_count]\n            for j, ind in enumerate(ind_followers):\n                trans_mat[ch_lab, ind] = followers_prob[j]\n        return trans_mat\n\n    def transform_chords_to_vectors(self, ch):\n        assert(ch in self.input_df_[1])\n        ind =  np.argwhere(self.input_df_[1] == ch)[0]\n        vec = np.zeros(len(self.input_df_[1]))\n        vec[ind] = 1\n        return vec\n\n    def fit(self):\n        # self.clean_data()\n        self.trans_mat = self.transition_probs()\n        return self\n\n    def step(self, ch):\n        if len(ch.split()) == self.n_gram-1:\n            print('simple step')\n            return self.simple_step(ch)\n        elif len(ch.split()) == 1:\n            temp_mod = NGramModel(self.df, n_gram_=2)\n            print('step w/ 2')\n            return temp_mod.fit().step(ch)\n        else:\n            temp_mod = NGramModel(self.df, n_gram_=len(ch.split()) + 1)\n            print('difficult step')\n            return temp_mod.fit().step(ch)\n\n    def simple_step(self, chs):\n        vec = self.transform_chords_to_vectors(chs)\n        out = np.dot(self.trans_mat.T, vec)\n        return np.random.choice(self.df_[1], 1, p=out)[0]\n\n    def predict(self, ch, n=5, verbose=False):\n        seq = [ch]\n        for i in range(n):\n            print('step ', i)\n            ch_temp = self.step(ch)\n            seq.append(ch_temp)\n            from_i = min(i, self.n_gram-1)\n            ch = ' '.join(seq[-from_i:])\n            print('ch ', ch)\n            if verbose:\n                print(ch)\n        return seq"
        },
        {
            "cell_type": "code",
            "execution_count": 93,
            "metadata": {
                "trusted": true
            },
            "outputs": [
                {
                    "name": "stdout",
                    "output_type": "stream",
                    "text": "(445, 2)\n(444, 3)\n"
                },
                {
                    "name": "stderr",
                    "output_type": "stream",
                    "text": "/tmp/ipykernel_39151/1766519637.py:4: FutureWarning: factorize with argument that is not not a Series, Index, ExtensionArray, or np.ndarray is deprecated and will raise in a future version.\n  self.df_ = pd.factorize(df)\n/tmp/ipykernel_39151/1766519637.py:13: FutureWarning: factorize with argument that is not not a Series, Index, ExtensionArray, or np.ndarray is deprecated and will raise in a future version.\n  self.data_ = pd.factorize(self.data)\n"
                },
                {
                    "ename": "AttributeError",
                    "evalue": "'NGramModel' object has no attribute 'input_df_'",
                    "output_type": "error",
                    "traceback": [
                        "\u001b[0;31m---------------------------------------------------------------------------\u001b[0m",
                        "\u001b[0;31mAttributeError\u001b[0m                            Traceback (most recent call last)",
                        "Cell \u001b[0;32mIn[93], line 2\u001b[0m\n\u001b[1;32m      1\u001b[0m n_gram \u001b[38;5;241m=\u001b[39m NGramModel(df, n_gram_\u001b[38;5;241m=\u001b[39m\u001b[38;5;241m3\u001b[39m)\n\u001b[0;32m----> 2\u001b[0m \u001b[43mn_gram\u001b[49m\u001b[38;5;241;43m.\u001b[39;49m\u001b[43mfit\u001b[49m\u001b[43m(\u001b[49m\u001b[43m)\u001b[49m\n\u001b[1;32m      3\u001b[0m \u001b[38;5;28mprint\u001b[39m(n_gram\u001b[38;5;241m.\u001b[39mgenerate_n_grams(df, \u001b[38;5;241m4\u001b[39m))\n\u001b[1;32m      5\u001b[0m n_gram\u001b[38;5;241m.\u001b[39msimple_step(\u001b[38;5;124m'\u001b[39m\u001b[38;5;124mI V\u001b[39m\u001b[38;5;124m'\u001b[39m)\n",
                        "Cell \u001b[0;32mIn[92], line 57\u001b[0m, in \u001b[0;36mNGramModel.fit\u001b[0;34m(self)\u001b[0m\n\u001b[1;32m     55\u001b[0m \u001b[38;5;28;01mdef\u001b[39;00m \u001b[38;5;21mfit\u001b[39m(\u001b[38;5;28mself\u001b[39m):\n\u001b[1;32m     56\u001b[0m     \u001b[38;5;66;03m# self.clean_data()\u001b[39;00m\n\u001b[0;32m---> 57\u001b[0m     \u001b[38;5;28mself\u001b[39m\u001b[38;5;241m.\u001b[39mtrans_mat \u001b[38;5;241m=\u001b[39m \u001b[38;5;28;43mself\u001b[39;49m\u001b[38;5;241;43m.\u001b[39;49m\u001b[43mtransition_probs\u001b[49m\u001b[43m(\u001b[49m\u001b[43m)\u001b[49m\n\u001b[1;32m     58\u001b[0m     \u001b[38;5;28;01mreturn\u001b[39;00m \u001b[38;5;28mself\u001b[39m\n",
                        "Cell \u001b[0;32mIn[92], line 26\u001b[0m, in \u001b[0;36mNGramModel.transition_probs\u001b[0;34m(self)\u001b[0m\n\u001b[1;32m     25\u001b[0m \u001b[38;5;28;01mdef\u001b[39;00m \u001b[38;5;21mtransition_probs\u001b[39m(\u001b[38;5;28mself\u001b[39m):\n\u001b[0;32m---> 26\u001b[0m     trans_mat \u001b[38;5;241m=\u001b[39m np\u001b[38;5;241m.\u001b[39mzeros((\u001b[38;5;28mlen\u001b[39m(\u001b[38;5;28;43mself\u001b[39;49m\u001b[38;5;241;43m.\u001b[39;49m\u001b[43minput_df_\u001b[49m[\u001b[38;5;241m1\u001b[39m]), \u001b[38;5;28mlen\u001b[39m(\u001b[38;5;28mself\u001b[39m\u001b[38;5;241m.\u001b[39mdf_[\u001b[38;5;241m1\u001b[39m])))\n\u001b[1;32m     28\u001b[0m     \u001b[38;5;66;03m# count of transitions\u001b[39;00m\n\u001b[1;32m     29\u001b[0m     \u001b[38;5;66;03m# data_split = np.array([tok.split()[:self.n_gram-1] for tok in self.data_[1]])\u001b[39;00m\n\u001b[1;32m     30\u001b[0m     \u001b[38;5;28;01mfor\u001b[39;00m ch_lab, chords \u001b[38;5;129;01min\u001b[39;00m \u001b[38;5;28menumerate\u001b[39m(\u001b[38;5;28mself\u001b[39m\u001b[38;5;241m.\u001b[39minput_df_[\u001b[38;5;241m1\u001b[39m]):\n",
                        "\u001b[0;31mAttributeError\u001b[0m: 'NGramModel' object has no attribute 'input_df_'"
                    ]
                }
            ],
            "source": "n_gram = NGramModel(df, n_gram_=3)\nn_gram.fit()\nprint(n_gram.generate_n_grams(df, 4))\n\nn_gram.simple_step('I V')"
        },
        {
            "cell_type": "markdown",
            "metadata": {},
            "source": "fit the model"
        },
        {
            "cell_type": "code",
            "execution_count": null,
            "metadata": {
                "trusted": true
            },
            "outputs": [],
            "source": "markov = MarkovChain(df).fit()\n# markov.predict('I', n=36, verbose=True)"
        },
        {
            "cell_type": "markdown",
            "metadata": {},
            "source": "test the metrics"
        },
        {
            "cell_type": "code",
            "execution_count": null,
            "metadata": {
                "trusted": true
            },
            "outputs": [],
            "source": "import chord_eval as ce\n\nstart = 'I'\nlength = 32\n\npred_chords = markov.predict(start, n=length, start_at_current=True)\n\norg_chords = df.values[:length]\n\nfor y, y_hat in zip(pred_chords, org_chords):\n    print(y, y_hat)\n    tone_by_tone = ce.get_distance(y, y_hat)"
        }
    ],
    "metadata": {
        "kernelspec": {
            "display_name": "DCML",
            "language": "python",
            "name": "dcml"
        },
        "language_info": {
            "codemirror_mode": {
                "name": "ipython",
                "version": 3
            },
            "file_extension": ".py",
            "mimetype": "text/x-python",
            "name": "python",
            "nbconvert_exporter": "python",
            "pygments_lexer": "ipython3",
            "version": "3.11.8"
        }
    },
    "nbformat": 4,
    "nbformat_minor": 5
}