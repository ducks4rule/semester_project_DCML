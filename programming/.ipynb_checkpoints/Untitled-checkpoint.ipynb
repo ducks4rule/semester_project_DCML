{
 "cells": [
  {
   "cell_type": "markdown",
   "id": "fc25d97f",
   "metadata": {},
   "source": [
    "# Definition of a simple n-gram Model"
   ]
  },
  {
   "cell_type": "code",
   "execution_count": 77,
   "id": "95949ebb",
   "metadata": {},
   "outputs": [],
   "source": [
    "# packages\n",
    "import torch\n",
    "import torch.nn as nn\n",
    "import torch.optim as optim\n",
    "import torch.utils\n",
    "import torch.utils.data\n",
    "from torch.utils.data import DataLoader\n",
    "\n",
    "import pandas as pd\n",
    "import numpy as np\n",
    "\n",
    "import os"
   ]
  },
  {
   "cell_type": "markdown",
   "id": "2dc6e884",
   "metadata": {},
   "source": [
    "loading the data"
   ]
  },
  {
   "cell_type": "code",
   "execution_count": 78,
   "id": "865130ff",
   "metadata": {},
   "outputs": [
    {
     "name": "stdout",
     "output_type": "stream",
     "text": [
      "16\n"
     ]
    }
   ],
   "source": [
    "df_all = pd.read_csv('/home/lorenz/Documents/Mathematik/24 FS/Semester_Paper_DCML/data/ABC/harmonies/n10op74_01.harmonies.tsv', sep='\\t')\n",
    "\n",
    "# define new dataframe df with only the 'numeral' column\n",
    "df = df_all['numeral']\n",
    "df_ = pd.factorize(df)\n",
    "print(len(df_[1]))"
   ]
  },
  {
   "cell_type": "markdown",
   "id": "c6a9da40",
   "metadata": {},
   "source": [
    "Markov chain model"
   ]
  },
  {
   "cell_type": "code",
   "execution_count": 79,
   "id": "93f7603d",
   "metadata": {},
   "outputs": [],
   "source": [
    "class MarkovChain:\n",
    "    def __init__(self, df):\n",
    "        self.df = df\n",
    "        self.df_ = pd.factorize(df)\n",
    "        self.trans_mat = np.zeros((len(df_[1]), len(df_[1])))\n",
    "    \n",
    "    def clean_data(self):\n",
    "        # if df_ contains a None value, remove it and the corresponding entry in df\n",
    "        if None in self.df_[1]:\n",
    "            ind = np.argwhere(self.df_[1] is None)\n",
    "            self.df = np.delete(self.df, ind)\n",
    "            self.df_ = pd.factorize(self.df)\n",
    "\n",
    "    # calculate the transition matrix\n",
    "    def markov_transition_matrix(self):\n",
    "        trans_mat = np.zeros((len(self.df_[1]), len(self.df_[1])))\n",
    "\n",
    "        # count of transitions\n",
    "        for ch1 in self.df_[1]:\n",
    "            inds = np.argwhere(self.df == ch1).flatten()\n",
    "            # if first entry = 0, remove it \n",
    "            if inds[0] == 0:\n",
    "                inds = np.delete(inds, 0)\n",
    "            for ch2 in self.df_[1]:\n",
    "                before = sum([chd == ch2 for chd in self.df[inds-1]])\n",
    "                trans_mat[self.df_[1] == ch1, self.df_[1] == ch2] = before/len(self.df[inds])\n",
    "        self.trans_mat = trans_mat\n",
    "        return trans_mat\n",
    "\n",
    "    def transform_chords_to_vectors(self, ch):\n",
    "        assert(ch in self.df_[1])\n",
    "        ind =  np.argwhere(self.df_[1] == ch)[0]\n",
    "        vec = np.zeros(len(self.df_[1]))\n",
    "        vec[ind] = 1\n",
    "        return vec\n",
    "\n",
    "    def fit(self):\n",
    "        self.clean_data()\n",
    "        self.trans_mat = self.markov_transition_matrix()\n",
    "        return self\n",
    "\n",
    "    def step(self, ch):\n",
    "        # print('step form ', ch)\n",
    "        vec = self.transform_chords_to_vectors(ch)\n",
    "        out = np.dot(self.trans_mat.T, vec)\n",
    "        return np.random.choice(self.df_[1], 1, p=out)[0]\n",
    "\n",
    "    def predict(self, ch, n=3, verbose=False, start_at_current=False):\n",
    "        seq = []\n",
    "        if start_at_current:\n",
    "            seq.append(ch)\n",
    "\n",
    "        for i in range(n):\n",
    "            ch = self.step(ch)\n",
    "            seq.append(ch)\n",
    "            if verbose:\n",
    "                print(ch)\n",
    "        return seq"
   ]
  },
  {
   "cell_type": "markdown",
   "id": "9d11aba2",
   "metadata": {},
   "source": [
    "fit the model"
   ]
  },
  {
   "cell_type": "code",
   "execution_count": 80,
   "id": "3082c8dd",
   "metadata": {},
   "outputs": [],
   "source": [
    "markov = MarkovChain(df).fit()\n",
    "# markov.predict('I', n=36, verbose=True)"
   ]
  },
  {
   "cell_type": "markdown",
   "id": "1ed9f536",
   "metadata": {},
   "source": [
    "sonification"
   ]
  },
  {
   "cell_type": "code",
   "execution_count": 87,
   "id": "70ff85f3",
   "metadata": {},
   "outputs": [
    {
     "ename": "SyntaxError",
     "evalue": "'break' outside loop (360947096.py, line 35)",
     "output_type": "error",
     "traceback": [
      "\u001b[0;36m  Cell \u001b[0;32mIn[87], line 35\u001b[0;36m\u001b[0m\n\u001b[0;31m    break\u001b[0m\n\u001b[0m    ^\u001b[0m\n\u001b[0;31mSyntaxError\u001b[0m\u001b[0;31m:\u001b[0m 'break' outside loop\n"
     ]
    }
   ],
   "source": [
    "from midiutil import MIDIFile\n",
    "from mingus.core import progressions\n",
    "\n",
    "# transform markov output to readable chords with mignus\n",
    "def chords_to_notes(progression, key='F'):\n",
    "    return progressions.to_chords(progression, key)\n",
    "\n",
    "def swap_accidentals(note):\n",
    "    if note == 'Db':\n",
    "        return 'C#'\n",
    "    if note == 'D#':\n",
    "        return 'Eb'\n",
    "    if note == 'E#':\n",
    "        return 'F'\n",
    "    if note == 'Gb':\n",
    "        return 'F#'\n",
    "    if note == 'G#':\n",
    "        return 'Ab'\n",
    "    if note == 'A#':\n",
    "        return 'Bb'\n",
    "    if note == 'B#':\n",
    "        return 'C'\n",
    "\n",
    "    return note\n",
    "\n",
    "def note_to_number(note: str, octave: int) -> int:\n",
    "    note = swap_accidentals(note)\n",
    "    NOTES = ['C', 'C#', 'D', 'Eb', 'E', 'F', 'F#', 'G', 'Ab', 'A', 'Bb', 'B']\n",
    "    OCTAVES = list(range(11))\n",
    "    NOTES_IN_OCTAVE = len(NOTES)\n",
    "    # note = swap_accidentals(note)\n",
    "    if note not in NOTES:\n",
    "        print(note)\n",
    "        print('error')\n",
    "        break\n",
    "    assert octave in OCTAVES\n",
    "\n",
    "    note = NOTES.index(note)\n",
    "    note += (NOTES_IN_OCTAVE * octave)\n",
    "    return note\n",
    "\n",
    "def midi_to_wav(midi_file, soundfont='~/Documents/Musik/Soundfont/GeneralUser GS 1.471/GeneralUser GS v1.471.sf2'):\n",
    "    # convert midi to wav using fluidsynth\n",
    "    wav_file = midi_file.replace('.mid', '.wav')\n",
    "    os.system(f'fluidsynth -ni {soundfont} {midi_file} -F {wav_file} -r 44100')\n",
    "    os.remove(midi_file)\n",
    "\n",
    "# create a midi file\n",
    "def create_midi_file(chord_progression, filename='output.mid',\n",
    "                     duration=2, vol=100, octave=4):\n",
    "    # create a midi file\n",
    "    midi = MIDIFile(1)\n",
    "    midi.addTempo(0, 0, 120)\n",
    "\n",
    "    # change chord symbols to notes\n",
    "    note_progression = chords_to_notes(chord_progression)\n",
    "    print(type(note_progression))\n",
    "\n",
    "    # add chords\n",
    "    time = 0\n",
    "    for chord in note_progression:\n",
    "        for pitch in chord:\n",
    "            pitch = note_to_number(pitch, octave)\n",
    "            midi.addNote(0, 0, pitch, time, duration , vol)\n",
    "        time += duration\n",
    "\n",
    "    # write to file\n",
    "    with open(filename, 'wb') as f:\n",
    "        midi.writeFile(f)\n",
    "\n",
    "    # convert to wav\n",
    "    midi_to_wav(filename)"
   ]
  },
  {
   "cell_type": "code",
   "execution_count": 88,
   "id": "dff14149",
   "metadata": {},
   "outputs": [
    {
     "name": "stdout",
     "output_type": "stream",
     "text": [
      "<class 'list'>\n"
     ]
    },
    {
     "ename": "AssertionError",
     "evalue": "",
     "output_type": "error",
     "traceback": [
      "\u001b[0;31m---------------------------------------------------------------------------\u001b[0m",
      "\u001b[0;31mAssertionError\u001b[0m                            Traceback (most recent call last)",
      "Cell \u001b[0;32mIn[88], line 5\u001b[0m\n\u001b[1;32m      2\u001b[0m start \u001b[38;5;241m=\u001b[39m \u001b[38;5;124m'\u001b[39m\u001b[38;5;124mI\u001b[39m\u001b[38;5;124m'\u001b[39m\n\u001b[1;32m      3\u001b[0m chords \u001b[38;5;241m=\u001b[39m markov\u001b[38;5;241m.\u001b[39mpredict(start, n\u001b[38;5;241m=\u001b[39m\u001b[38;5;241m63\u001b[39m, start_at_current\u001b[38;5;241m=\u001b[39m\u001b[38;5;28;01mTrue\u001b[39;00m)\n\u001b[0;32m----> 5\u001b[0m \u001b[43mcreate_midi_file\u001b[49m\u001b[43m(\u001b[49m\u001b[43mchords\u001b[49m\u001b[43m,\u001b[49m\u001b[43m \u001b[49m\u001b[43mfilename\u001b[49m\u001b[38;5;241;43m=\u001b[39;49m\u001b[38;5;124;43m'\u001b[39;49m\u001b[38;5;124;43mmarkov_chain_output.mid\u001b[39;49m\u001b[38;5;124;43m'\u001b[39;49m\u001b[43m,\u001b[49m\u001b[43m \u001b[49m\u001b[43mduration\u001b[49m\u001b[38;5;241;43m=\u001b[39;49m\u001b[38;5;241;43m2\u001b[39;49m\u001b[43m)\u001b[49m\n",
      "Cell \u001b[0;32mIn[81], line 60\u001b[0m, in \u001b[0;36mcreate_midi_file\u001b[0;34m(chord_progression, filename, duration, vol, octave)\u001b[0m\n\u001b[1;32m     58\u001b[0m \u001b[38;5;28;01mfor\u001b[39;00m chord \u001b[38;5;129;01min\u001b[39;00m note_progression:\n\u001b[1;32m     59\u001b[0m     \u001b[38;5;28;01mfor\u001b[39;00m pitch \u001b[38;5;129;01min\u001b[39;00m chord:\n\u001b[0;32m---> 60\u001b[0m         pitch \u001b[38;5;241m=\u001b[39m \u001b[43mnote_to_number\u001b[49m\u001b[43m(\u001b[49m\u001b[43mpitch\u001b[49m\u001b[43m,\u001b[49m\u001b[43m \u001b[49m\u001b[43moctave\u001b[49m\u001b[43m)\u001b[49m\n\u001b[1;32m     61\u001b[0m         midi\u001b[38;5;241m.\u001b[39maddNote(\u001b[38;5;241m0\u001b[39m, \u001b[38;5;241m0\u001b[39m, pitch, time, duration , vol)\n\u001b[1;32m     62\u001b[0m     time \u001b[38;5;241m+\u001b[39m\u001b[38;5;241m=\u001b[39m duration\n",
      "Cell \u001b[0;32mIn[81], line 32\u001b[0m, in \u001b[0;36mnote_to_number\u001b[0;34m(note, octave)\u001b[0m\n\u001b[1;32m     30\u001b[0m NOTES_IN_OCTAVE \u001b[38;5;241m=\u001b[39m \u001b[38;5;28mlen\u001b[39m(NOTES)\n\u001b[1;32m     31\u001b[0m \u001b[38;5;66;03m# note = swap_accidentals(note)\u001b[39;00m\n\u001b[0;32m---> 32\u001b[0m \u001b[38;5;28;01massert\u001b[39;00m note \u001b[38;5;129;01min\u001b[39;00m NOTES\n\u001b[1;32m     33\u001b[0m \u001b[38;5;28;01massert\u001b[39;00m octave \u001b[38;5;129;01min\u001b[39;00m OCTAVES\n\u001b[1;32m     35\u001b[0m note \u001b[38;5;241m=\u001b[39m NOTES\u001b[38;5;241m.\u001b[39mindex(note)\n",
      "\u001b[0;31mAssertionError\u001b[0m: "
     ]
    }
   ],
   "source": [
    "# test\n",
    "start = 'I'\n",
    "chords = markov.predict(start, n=63, start_at_current=True)\n",
    "\n",
    "create_midi_file(chords, filename='markov_chain_output.mid', duration=2)"
   ]
  }
 ],
 "metadata": {
  "kernelspec": {
   "display_name": "DCML",
   "language": "python",
   "name": "dcml"
  },
  "language_info": {
   "codemirror_mode": {
    "name": "ipython",
    "version": 3
   },
   "file_extension": ".py",
   "mimetype": "text/x-python",
   "name": "python",
   "nbconvert_exporter": "python",
   "pygments_lexer": "ipython3",
   "version": "3.8.10"
  }
 },
 "nbformat": 4,
 "nbformat_minor": 5
}
